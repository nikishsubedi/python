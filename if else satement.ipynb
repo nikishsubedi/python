{
 "cells": [
  {
   "cell_type": "code",
   "execution_count": 2,
   "id": "cdbf5663",
   "metadata": {},
   "outputs": [
    {
     "name": "stdout",
     "output_type": "stream",
     "text": [
      "Enter you number:\t15\n",
      "15 is odd\n"
     ]
    }
   ],
   "source": [
    "a=int(input(\"Enter you number:\\t\"))\n",
    "if(a%2==0):\n",
    "    print(a,\"is even\")\n",
    "else:\n",
    "    print(a,\"is odd\")\n"
   ]
  },
  {
   "cell_type": "code",
   "execution_count": 6,
   "id": "e724e764",
   "metadata": {},
   "outputs": [
    {
     "name": "stdout",
     "output_type": "stream",
     "text": [
      "enter the value of a: 10\n",
      "enter the value og b: 15\n",
      "15 is greater\n"
     ]
    }
   ],
   "source": [
    "a=int(input(\"enter the value of a: \"))\n",
    "b=int(input(\"enter the value og b: \"))\n",
    "if(a>b):\n",
    "    print(a,\"is greater\")\n",
    "elif(b>a):\n",
    "    print(b,\"is greater\")\n",
    "else:\n",
    "    print(\"Both are equal\")"
   ]
  },
  {
   "cell_type": "code",
   "execution_count": 15,
   "id": "89aa2c91",
   "metadata": {},
   "outputs": [
    {
     "name": "stdout",
     "output_type": "stream",
     "text": [
      "enter the value of a: 10\n",
      "enter the value og b: 0\n",
      "Enter the operator/\n",
      "The Value of b cannot be zero\n"
     ]
    }
   ],
   "source": [
    "a=int(input(\"enter the value of a: \"))\n",
    "b=int(input(\"enter the value og b: \"))\n",
    "o=input(\"Enter the operator\")\n",
    "if(o==\"+\"):\n",
    "    print(\"The result is \",a+b)\n",
    "elif(o==\"-\"):\n",
    "    print(\"The result is \",a-b)\n",
    "elif(o==\"/\" and b!=0):\n",
    "    print(\"The result is \",a/b)\n",
    "elif(o==\"/\" and b==0):\n",
    "    print(\"The Value of b cannot be zero\")\n",
    "elif(o==\"*\"):\n",
    "    print(\"The result is \",a/b)\n",
    "elif(o==\"%\"and b!=0):\n",
    "    print(\"The result is \",a%b)\n",
    "else:\n",
    "    print(\"Enter valid operator\")"
   ]
  },
  {
   "cell_type": "code",
   "execution_count": 14,
   "id": "b104ddeb",
   "metadata": {},
   "outputs": [
    {
     "data": {
      "text/plain": [
       "False"
      ]
     },
     "execution_count": 14,
     "metadata": {},
     "output_type": "execute_result"
    }
   ],
   "source": [
    "True and False"
   ]
  },
  {
   "cell_type": "code",
   "execution_count": 10,
   "id": "f8c0b785",
   "metadata": {},
   "outputs": [
    {
     "data": {
      "text/plain": [
       "True"
      ]
     },
     "execution_count": 10,
     "metadata": {},
     "output_type": "execute_result"
    }
   ],
   "source": [
    "True or False"
   ]
  },
  {
   "cell_type": "code",
   "execution_count": 20,
   "id": "d4f96165",
   "metadata": {},
   "outputs": [
    {
     "name": "stdout",
     "output_type": "stream",
     "text": [
      "enter the value of a: 20\n",
      "enter the value of b: 20\n",
      "enter the value of c: 5\n",
      "5 is greatest\n"
     ]
    }
   ],
   "source": [
    "a=int(input(\"enter the value of a: \"))\n",
    "b=int(input(\"enter the value of b: \"))\n",
    "c=int(input(\"enter the value of c: \"))\n",
    "if(a>b and a>c):\n",
    "    print(a,\"is the gratest\")\n",
    "elif(b>c and b>a):\n",
    "    print(b,\"is the gratest\")\n",
    "elif(a==b==c):\n",
    "    print(\"Equal Numbers\")\n",
    "else:\n",
    "    print(c,\"is greatest\")"
   ]
  },
  {
   "cell_type": "code",
   "execution_count": 6,
   "id": "284b4543",
   "metadata": {},
   "outputs": [
    {
     "name": "stdout",
     "output_type": "stream",
     "text": [
      "enter the value of a: 4\n",
      "enter the value of b: 5\n",
      "enter the value of c: 3\n",
      "b is the gratest\n"
     ]
    }
   ],
   "source": [
    "a=float(input(\"enter the value of a: \"))\n",
    "b=float(input(\"enter the value of b: \"))\n",
    "c=float(input(\"enter the value of c: \"))\n",
    "if(a==b and b==c):\n",
    "    print(\"Equal Numbers \")\n",
    "elif(a==b and a>c):\n",
    "    print(\"a and b is the gratest\")\n",
    "elif(a==c and a>b):\n",
    "    print(\"a and c is the gratest\")\n",
    "elif(a>b and a>c):\n",
    "    print(\"a is the gratest\")\n",
    "elif(b==c and b>a):\n",
    "    print(\"b and c is the gratest\")\n",
    "elif(b>c and b>a):\n",
    "    print(\"b is the gratest\")\n",
    "elif(a==b==c):\n",
    "    print(\"Equal Numbers\")\n",
    "else:\n",
    "    print(\"c is greatest\")"
   ]
  },
  {
   "cell_type": "code",
   "execution_count": null,
   "id": "f64455f7",
   "metadata": {},
   "outputs": [],
   "source": []
  },
  {
   "cell_type": "code",
   "execution_count": null,
   "id": "08c4d7eb",
   "metadata": {},
   "outputs": [],
   "source": []
  }
 ],
 "metadata": {
  "kernelspec": {
   "display_name": "Python 3 (ipykernel)",
   "language": "python",
   "name": "python3"
  },
  "language_info": {
   "codemirror_mode": {
    "name": "ipython",
    "version": 3
   },
   "file_extension": ".py",
   "mimetype": "text/x-python",
   "name": "python",
   "nbconvert_exporter": "python",
   "pygments_lexer": "ipython3",
   "version": "3.9.7"
  }
 },
 "nbformat": 4,
 "nbformat_minor": 5
}
