{
 "cells": [
  {
   "cell_type": "code",
   "execution_count": null,
   "id": "a86b0022",
   "metadata": {},
   "outputs": [],
   "source": [
    "# set\n",
    "# -no Indexing\n",
    "# -no Duplicate value\n",
    "# -unOrdered\n",
    "# -Mutable"
   ]
  },
  {
   "cell_type": "code",
   "execution_count": 2,
   "id": "bf9b9d04",
   "metadata": {},
   "outputs": [
    {
     "name": "stdout",
     "output_type": "stream",
     "text": [
      "<class 'dict'>\n",
      "<class 'set'>\n"
     ]
    }
   ],
   "source": [
    "s={}\n",
    "print(type(s))\n",
    "s={1,2,3}\n",
    "print(type(s))"
   ]
  },
  {
   "cell_type": "code",
   "execution_count": 3,
   "id": "0467c22b",
   "metadata": {},
   "outputs": [
    {
     "ename": "TypeError",
     "evalue": "'set' object is not subscriptable",
     "output_type": "error",
     "traceback": [
      "\u001b[1;31m---------------------------------------------------------------------------\u001b[0m",
      "\u001b[1;31mTypeError\u001b[0m                                 Traceback (most recent call last)",
      "\u001b[1;32m~\\AppData\\Local\\Temp/ipykernel_11856/3205999123.py\u001b[0m in \u001b[0;36m<module>\u001b[1;34m\u001b[0m\n\u001b[0;32m      1\u001b[0m \u001b[0ma\u001b[0m\u001b[1;33m=\u001b[0m\u001b[1;33m{\u001b[0m\u001b[1;36m1\u001b[0m\u001b[1;33m,\u001b[0m\u001b[1;36m2\u001b[0m\u001b[1;33m,\u001b[0m\u001b[1;36m3\u001b[0m\u001b[1;33m,\u001b[0m\u001b[1;36m4\u001b[0m\u001b[1;33m,\u001b[0m\u001b[1;36m5\u001b[0m\u001b[1;33m}\u001b[0m\u001b[1;33m\u001b[0m\u001b[1;33m\u001b[0m\u001b[0m\n\u001b[1;32m----> 2\u001b[1;33m \u001b[0mprint\u001b[0m\u001b[1;33m(\u001b[0m\u001b[0ma\u001b[0m\u001b[1;33m[\u001b[0m\u001b[1;36m0\u001b[0m\u001b[1;33m]\u001b[0m\u001b[1;33m)\u001b[0m\u001b[1;33m\u001b[0m\u001b[1;33m\u001b[0m\u001b[0m\n\u001b[0m\u001b[0;32m      3\u001b[0m \u001b[1;31m#set doesn't support indexing\u001b[0m\u001b[1;33m\u001b[0m\u001b[1;33m\u001b[0m\u001b[0m\n",
      "\u001b[1;31mTypeError\u001b[0m: 'set' object is not subscriptable"
     ]
    }
   ],
   "source": [
    "a={1,2,3,4,5}\n",
    "print(a[0])\n",
    "#set doesn't support indexing "
   ]
  },
  {
   "cell_type": "code",
   "execution_count": 4,
   "id": "fa63a86f",
   "metadata": {},
   "outputs": [
    {
     "name": "stdout",
     "output_type": "stream",
     "text": [
      "{1, 2, 3, 4, 5}\n"
     ]
    }
   ],
   "source": [
    "a={1,2,2,3,4,5}\n",
    "print(a)\n",
    "#set ignores duplicate value repeat hunna print garda"
   ]
  },
  {
   "cell_type": "code",
   "execution_count": 18,
   "id": "8c855854",
   "metadata": {},
   "outputs": [
    {
     "name": "stdout",
     "output_type": "stream",
     "text": [
      "{'Apple', 'Cat', 'Ball'}\n"
     ]
    }
   ],
   "source": [
    "a={\"Apple\",\"Ball\",\"Cat\"}\n",
    "print(a)"
   ]
  },
  {
   "cell_type": "code",
   "execution_count": 19,
   "id": "4f3450e0",
   "metadata": {},
   "outputs": [
    {
     "data": {
      "text/plain": [
       "{'Apple', 'Ball', 'Cat'}"
      ]
     },
     "execution_count": 19,
     "metadata": {},
     "output_type": "execute_result"
    }
   ],
   "source": [
    "a"
   ]
  },
  {
   "cell_type": "code",
   "execution_count": 8,
   "id": "0c39bb68",
   "metadata": {},
   "outputs": [
    {
     "data": {
      "text/plain": [
       "{'Apple'}"
      ]
     },
     "execution_count": 8,
     "metadata": {},
     "output_type": "execute_result"
    }
   ],
   "source": [
    "a=set()\n",
    "a.add(\"Apple\")\n",
    "a"
   ]
  },
  {
   "cell_type": "code",
   "execution_count": 11,
   "id": "cba5a78d",
   "metadata": {},
   "outputs": [
    {
     "data": {
      "text/plain": [
       "{'Apple', 'Ball', 'Cat', 'Dog'}"
      ]
     },
     "execution_count": 11,
     "metadata": {},
     "output_type": "execute_result"
    }
   ],
   "source": [
    "a={\"Apple\",\"Ball\",\"Cat\"}\n",
    "b={\"Dog\"}\n",
    "#a.add(b) euta set ma arko set add garna mildaina \n",
    "a.update(b)\n",
    "a"
   ]
  },
  {
   "cell_type": "code",
   "execution_count": 13,
   "id": "d6c8977c",
   "metadata": {},
   "outputs": [
    {
     "data": {
      "text/plain": [
       "{'Ball', 'Cat'}"
      ]
     },
     "execution_count": 13,
     "metadata": {},
     "output_type": "execute_result"
    }
   ],
   "source": [
    "a={\"Apple\",\"Ball\",\"Cat\"}\n",
    "a.remove(\"Apple\")\n",
    "a"
   ]
  },
  {
   "cell_type": "code",
   "execution_count": 16,
   "id": "5e42853b",
   "metadata": {},
   "outputs": [
    {
     "data": {
      "text/plain": [
       "[1, 2, 3, 4, 5]"
      ]
     },
     "execution_count": 16,
     "metadata": {},
     "output_type": "execute_result"
    }
   ],
   "source": [
    "a=[1,2,3,1,2,3,1,4,5,1,2,3]\n",
    "b=set(a)\n",
    "a=list(b)\n",
    "a"
   ]
  },
  {
   "cell_type": "code",
   "execution_count": 25,
   "id": "389154ca",
   "metadata": {},
   "outputs": [
    {
     "data": {
      "text/plain": [
       "{'Balen', 'Gates', 'Gita', 'Hari', 'Jobs', 'Nabin', 'Pankaj', 'Ram', 'Shyam'}"
      ]
     },
     "execution_count": 25,
     "metadata": {},
     "output_type": "execute_result"
    }
   ],
   "source": [
    "apple={\"Ram\",\"Shyam\",\"Hari\",\"Jobs\",\"Nabin\"}\n",
    "ms={\"Gates\",\"Pankaj\",\"Gita\",\"Balen\",\"Shyam\"}\n",
    "apple.union(ms)"
   ]
  },
  {
   "cell_type": "code",
   "execution_count": 26,
   "id": "5dc5ad5f",
   "metadata": {},
   "outputs": [
    {
     "data": {
      "text/plain": [
       "{'Shyam'}"
      ]
     },
     "execution_count": 26,
     "metadata": {},
     "output_type": "execute_result"
    }
   ],
   "source": [
    "apple.intersection(ms)"
   ]
  },
  {
   "cell_type": "code",
   "execution_count": 27,
   "id": "93f0c723",
   "metadata": {},
   "outputs": [
    {
     "data": {
      "text/plain": [
       "{'Hari', 'Jobs', 'Nabin', 'Ram'}"
      ]
     },
     "execution_count": 27,
     "metadata": {},
     "output_type": "execute_result"
    }
   ],
   "source": [
    "apple.difference(ms)"
   ]
  },
  {
   "cell_type": "code",
   "execution_count": 28,
   "id": "db46df70",
   "metadata": {},
   "outputs": [
    {
     "data": {
      "text/plain": [
       "{'Balen', 'Gates', 'Gita', 'Pankaj'}"
      ]
     },
     "execution_count": 28,
     "metadata": {},
     "output_type": "execute_result"
    }
   ],
   "source": [
    "ms.difference(apple)"
   ]
  },
  {
   "cell_type": "code",
   "execution_count": 34,
   "id": "f85d6586",
   "metadata": {},
   "outputs": [
    {
     "data": {
      "text/plain": [
       "{'Manu', 'Pakku'}"
      ]
     },
     "execution_count": 34,
     "metadata": {},
     "output_type": "execute_result"
    }
   ],
   "source": [
    "U={\"Ram\",\"Shyam\",\"Hari\",\"Jobs\",\"Nabin\",\"Lalu\",\"Gates\",\"Pankaj\",\"Gita\",\"Balen\",\"Shyam\"}\n",
    "apple={\"Ram\",\"Shyam\",\"Hari\",\"Jobs\",\"Nabin\",\"Manu\",\"Pakku\"}\n",
    "ms={\"Gates\",\"Pankaj\",\"Gita\",\"Balen\",\"Shyam\"}\n",
    "#jobless employee\n",
    "apple.difference(U)"
   ]
  },
  {
   "cell_type": "code",
   "execution_count": 37,
   "id": "6685b14e",
   "metadata": {},
   "outputs": [
    {
     "data": {
      "text/plain": [
       "{'Manu', 'Shyam'}"
      ]
     },
     "execution_count": 37,
     "metadata": {},
     "output_type": "execute_result"
    }
   ],
   "source": [
    "apple={\"Ram\",\"Shyam\",\"Hari\",\"Jobs\",\"Nabin\",\"Manu\",\"Pakku\"}\n",
    "ms={\"Gates\",\"Pankaj\",\"Gita\",\"Balen\",\"Shyam\",\"Manu\"}\n",
    "c=apple.intersection(ms)\n",
    "c"
   ]
  },
  {
   "cell_type": "code",
   "execution_count": 38,
   "id": "98381887",
   "metadata": {},
   "outputs": [
    {
     "data": {
      "text/plain": [
       "{'Balen', 'Gates', 'Gita', 'Hari', 'Jobs', 'Nabin', 'Pakku', 'Pankaj', 'Ram'}"
      ]
     },
     "execution_count": 38,
     "metadata": {},
     "output_type": "execute_result"
    }
   ],
   "source": [
    "(apple.union(ms)).difference(c)#yesle cahi aaple ra ms ma common bhako hatauxa"
   ]
  },
  {
   "cell_type": "code",
   "execution_count": 39,
   "id": "0e69483f",
   "metadata": {},
   "outputs": [],
   "source": [
    "#set bhitra mutable data type rakhna mildaina \n",
    "# -set ni rakhna mildaina\n",
    "# -dictionary ni rakhna mildaina \n",
    "# -list ni mildaina \n",
    "# - update garna milne kei pani didaina "
   ]
  }
 ],
 "metadata": {
  "kernelspec": {
   "display_name": "Python 3 (ipykernel)",
   "language": "python",
   "name": "python3"
  },
  "language_info": {
   "codemirror_mode": {
    "name": "ipython",
    "version": 3
   },
   "file_extension": ".py",
   "mimetype": "text/x-python",
   "name": "python",
   "nbconvert_exporter": "python",
   "pygments_lexer": "ipython3",
   "version": "3.9.7"
  }
 },
 "nbformat": 4,
 "nbformat_minor": 5
}
