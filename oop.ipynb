{
 "cells": [
  {
   "cell_type": "code",
   "execution_count": null,
   "id": "88e032bb",
   "metadata": {},
   "outputs": [],
   "source": [
    "class Hello: #class\n",
    "    print(\"Hello World\")\n",
    "obj=Hello() #object"
   ]
  },
  {
   "cell_type": "code",
   "execution_count": null,
   "id": "f6bf72d2",
   "metadata": {},
   "outputs": [],
   "source": [
    "class Hello:                #class\n",
    "    def hello(self):        #method\n",
    "        print(\"Hello World\")\n",
    "obj=Hello()                 #object\n",
    "obj.hello()"
   ]
  },
  {
   "cell_type": "code",
   "execution_count": null,
   "id": "57ffb16a",
   "metadata": {},
   "outputs": [],
   "source": [
    "class Hello:                #class\n",
    "    @staticmethod\n",
    "    def hello():        #method\n",
    "        print(\"Hello World\")\n",
    "obj=Hello()                 #object\n",
    "obj.hello()"
   ]
  },
  {
   "cell_type": "code",
   "execution_count": null,
   "id": "9d8898cf",
   "metadata": {},
   "outputs": [],
   "source": [
    "class Cal:\n",
    "    def area(self,l,b):\n",
    "        a=l*b\n",
    "        print(a)\n",
    "    def volume(self,l,b,h):\n",
    "        v=l*b*h\n",
    "        print(v)\n",
    "l=int(input(\"Enter l = \"))\n",
    "b=int(input(\"Enter b = \"))\n",
    "h=int(input(\"Enter h = \"))\n",
    "obj=Cal()\n",
    "obj.area(l,b)\n",
    "obj.volume(l,b,h)"
   ]
  },
  {
   "cell_type": "code",
   "execution_count": null,
   "id": "09298fde",
   "metadata": {},
   "outputs": [],
   "source": [
    "class Cal:\n",
    "    def area(self,l,b):\n",
    "        a=l*b\n",
    "        print(a)\n",
    "    def volume(self,l,b,h):\n",
    "        v=l*b*h\n",
    "        print(v)\n",
    "l=int(input(\"Enter l = \"))\n",
    "b=int(input(\"Enter b = \"))\n",
    "h=int(input(\"Enter h = \"))\n",
    "obj=Cal()\n",
    "obj.area(l,b)\n",
    "obj.volume(l,b,h)"
   ]
  },
  {
   "cell_type": "code",
   "execution_count": null,
   "id": "bdc7a5d4",
   "metadata": {},
   "outputs": [],
   "source": [
    "class Area:\n",
    "    def __init__(self):\n",
    "        self.l=int(input(\"Enter l = \"))\n",
    "        self.b=int(input(\"Enter b = \"))\n",
    "    def area(self):\n",
    "        a=self.l*self.b\n",
    "        print(a)\n",
    "obj=Area()\n",
    "obj.area()\n",
    "print(obj.l,obj.b)"
   ]
  },
  {
   "cell_type": "code",
   "execution_count": null,
   "id": "b85cbe4b",
   "metadata": {},
   "outputs": [],
   "source": [
    "class Area:\n",
    "    def __init__(self):\n",
    "        self.l=int(input(\"Enter l = \"))\n",
    "        self.b=int(input(\"Enter b = \"))\n",
    "    def volume(self,h):\n",
    "        a=self.l*self.b*h\n",
    "        print(a)\n",
    "obj=Area()\n",
    "print(obj.volume(2))\n",
    "print(obj.l,obj.b)"
   ]
  },
  {
   "cell_type": "code",
   "execution_count": null,
   "id": "efb0532f",
   "metadata": {},
   "outputs": [],
   "source": [
    "class Volume:\n",
    "    def __init__(self,l,b,h):\n",
    "        self.l=l\n",
    "        self.b=b\n",
    "        self.h=h\n",
    "    def volume(this):\n",
    "        v=this.l*this.b*this.h\n",
    "        print(\"Volume = \",v)\n",
    "    def area(self):\n",
    "        a=self.l*self.b\n",
    "        print(\"Area = \",a)\n",
    "l=int(input(\"Enter l = \"))\n",
    "b=int(input(\"Enter b = \"))\n",
    "h=int(input(\"Enter h = \"))\n",
    "obj=Volume(l,b,h)\n",
    "obj.volume()\n",
    "print(\"L = \",obj.l,\"B = \",obj.b,\"H = \",obj.h)\n",
    "obj.area()"
   ]
  },
  {
   "cell_type": "code",
   "execution_count": null,
   "id": "a10e84e1",
   "metadata": {},
   "outputs": [],
   "source": [
    "# #Inheritance\n",
    "# class A:  #parent class\n",
    "#     pass\n",
    "# class B(A): #child class / derived class\n",
    "#     pass\n",
    "\n",
    "# obj = B()\n",
    "    "
   ]
  },
  {
   "cell_type": "code",
   "execution_count": null,
   "id": "a0c93398",
   "metadata": {},
   "outputs": [],
   "source": [
    "class A:\n",
    "    def __init__(self):\n",
    "        self.name=input(\"Enter name = \")\n",
    "        self.age = int(input(\"Enter age = \"))\n",
    "class B(A):\n",
    "    def hello(self):\n",
    "        print(f\"Hello World I am {self.name}. I am {self.age} years old\")\n",
    "obj = B()\n",
    "obj.hello()"
   ]
  },
  {
   "cell_type": "code",
   "execution_count": null,
   "id": "d9390943",
   "metadata": {},
   "outputs": [],
   "source": [
    "# multilevel inheritance\n",
    "class A:\n",
    "    print(\"This is Class A\")\n",
    "class B(A):\n",
    "    print(\"This is Class B\")\n",
    "class C(B):\n",
    "    print(\"This is Class C\")\n",
    "obj = C()"
   ]
  },
  {
   "cell_type": "code",
   "execution_count": null,
   "id": "441207c6",
   "metadata": {},
   "outputs": [],
   "source": [
    "# multiple inheritance\n",
    "class A:\n",
    "    print(\"This is Class A\")\n",
    "class B:\n",
    "    print(\"This is Class B\")\n",
    "class C(B,A):\n",
    "    print(\"This is Class C\")\n",
    "obj=C()"
   ]
  },
  {
   "cell_type": "code",
   "execution_count": null,
   "id": "f7846bf9",
   "metadata": {},
   "outputs": [],
   "source": [
    "class A:\n",
    "    def __init__(self,add):\n",
    "        self.add=add\n",
    "    def _myadd(self):\n",
    "        return self.add\n",
    "        \n",
    "class B(A):\n",
    "    def __init__(self,name,age,add):\n",
    "        self.name=name\n",
    "        self.age=age\n",
    "        A.__init__(self,add)\n",
    "    def hello(self):\n",
    "        print(f\"Hello World I am {self.name}. I am {self.age} years old. I live in {self.add}\")\n",
    "name=input(\"Enter name = \")\n",
    "age = int(input(\"Enter age = \"))\n",
    "add= input(\"Enter address = \")\n",
    "obj = B(name,age,add)\n",
    "obj.hello()"
   ]
  },
  {
   "cell_type": "code",
   "execution_count": 28,
   "id": "ffe25083",
   "metadata": {},
   "outputs": [],
   "source": [
    "# Wap tp create a data entry application using class object and inheritance\n",
    "f=open('results.csv','w')\n",
    "f.write(\"Name,Roll,Physics,Math,English,CS,Nepali,Total,Percentage\\n\")\n",
    "f.close()\n",
    "import pandas as pd\n",
    "class N:\n",
    "    def __init__(self,name):\n",
    "        self.name=name\n",
    "    def _stuname(self):\n",
    "        return self.name\n",
    "class R:\n",
    "    def __init__(self,roll):\n",
    "        self.roll=roll\n",
    "    def _sturoll(self):\n",
    "        return self.roll\n",
    "class Calc(N,R):\n",
    "    def __init__(self,s1,s2,s3,s4,s5,name,roll):\n",
    "        self.s1=s1\n",
    "        self.s2=s2\n",
    "        self.s3=s3\n",
    "        self.s4=s4\n",
    "        self.s5=s5\n",
    "        N.__init__(self,name)\n",
    "        R.__init__(self,roll)\n",
    "    def calcn(self):\n",
    "        total=self.s1+self.s2+self.s3+self.s4+self.s5\n",
    "        percent=(total/500)*100\n",
    "        res=[total, percent]\n",
    "        return res\n",
    "    def add(self):\n",
    "        f=open('results.csv','a')\n",
    "        res=self.calcn()\n",
    "        data=f\"{self.name},{self.roll},{self.s1},{self.s2},{self.s3},{self.s4},{self.s5},{res[0]},{res[1]}\\n\"\n",
    "        f.write(data)\n",
    "        return df\n",
    "\n",
    "\n",
    "\n",
    "\n"
   ]
  },
  {
   "cell_type": "code",
   "execution_count": 29,
   "id": "ce8eb3df",
   "metadata": {},
   "outputs": [
    {
     "name": "stdout",
     "output_type": "stream",
     "text": [
      "Enter number = 2\n",
      "Enter Name: ra\n",
      "Enter Roll: 45\n",
      "Marks of physics: 45\n",
      "Marks of maths: 45\n",
      "Marks of English: 45\n",
      "Marks of CS: 45\n",
      "Marks of Nepali: 45\n",
      "Enter Name: we\n",
      "Enter Roll: 65\n",
      "Marks of physics: 65\n",
      "Marks of maths: 65\n",
      "Marks of English: 56\n",
      "Marks of CS: 65\n",
      "Marks of Nepali: 65\n"
     ]
    },
    {
     "data": {
      "text/html": [
       "<div>\n",
       "<style scoped>\n",
       "    .dataframe tbody tr th:only-of-type {\n",
       "        vertical-align: middle;\n",
       "    }\n",
       "\n",
       "    .dataframe tbody tr th {\n",
       "        vertical-align: top;\n",
       "    }\n",
       "\n",
       "    .dataframe thead th {\n",
       "        text-align: right;\n",
       "    }\n",
       "</style>\n",
       "<table border=\"1\" class=\"dataframe\">\n",
       "  <thead>\n",
       "    <tr style=\"text-align: right;\">\n",
       "      <th></th>\n",
       "      <th>Name</th>\n",
       "      <th>Roll</th>\n",
       "      <th>Physics</th>\n",
       "      <th>Math</th>\n",
       "      <th>English</th>\n",
       "      <th>CS</th>\n",
       "      <th>Nepali</th>\n",
       "      <th>Total</th>\n",
       "      <th>Percentage</th>\n",
       "    </tr>\n",
       "  </thead>\n",
       "  <tbody>\n",
       "    <tr>\n",
       "      <th>0</th>\n",
       "      <td>ra</td>\n",
       "      <td>45</td>\n",
       "      <td>45.0</td>\n",
       "      <td>45.0</td>\n",
       "      <td>45.0</td>\n",
       "      <td>45.0</td>\n",
       "      <td>45.0</td>\n",
       "      <td>225.0</td>\n",
       "      <td>45.0</td>\n",
       "    </tr>\n",
       "    <tr>\n",
       "      <th>1</th>\n",
       "      <td>we</td>\n",
       "      <td>65</td>\n",
       "      <td>65.0</td>\n",
       "      <td>65.0</td>\n",
       "      <td>56.0</td>\n",
       "      <td>65.0</td>\n",
       "      <td>65.0</td>\n",
       "      <td>316.0</td>\n",
       "      <td>63.2</td>\n",
       "    </tr>\n",
       "  </tbody>\n",
       "</table>\n",
       "</div>"
      ],
      "text/plain": [
       "  Name  Roll  Physics  Math  English    CS  Nepali  Total  Percentage\n",
       "0   ra    45     45.0  45.0     45.0  45.0    45.0  225.0        45.0\n",
       "1   we    65     65.0  65.0     56.0  65.0    65.0  316.0        63.2"
      ]
     },
     "execution_count": 29,
     "metadata": {},
     "output_type": "execute_result"
    }
   ],
   "source": [
    "i=int(input(\"Enter number = \"))\n",
    "for j in range(i):\n",
    "    name=input(\"Enter Name: \")\n",
    "    roll=int(input(\"Enter Roll: \"))\n",
    "    s1=float(input(\"Marks of physics: \"))\n",
    "    s2=float(input(\"Marks of maths: \"))\n",
    "    s3=float(input(\"Marks of English: \"))\n",
    "    s4=float(input(\"Marks of CS: \"))\n",
    "    s5=float(input(\"Marks of Nepali: \"))\n",
    "    stu=Calc(s1,s2,s3,s4,s5,name,roll)\n",
    "    stu.add()   \n",
    "df=pd.read_csv('results.csv')\n",
    "df\n"
   ]
  },
  {
   "cell_type": "code",
   "execution_count": null,
   "id": "406f5d80",
   "metadata": {},
   "outputs": [],
   "source": [
    "  class A:\n",
    "    def __init__(self,add):\n",
    "        self.add=add\n",
    "    def _myadd(self):\n",
    "            return self.add\n",
    "\n",
    "class B(A):\n",
    "    def __init__(self,age,add):\n",
    "        self.age=age\n",
    "        A.__init__(self,add)\n",
    "    def myinfo(self):\n",
    "            print(f\"Hello KTM I am Nymeria. I am {self.age} years old. I am from {add}\")\n",
    "        \n",
    "class C(B):\n",
    "    def __init__(self,name,age,add):\n",
    "        self.name=name\n",
    "        self.age=age\n",
    "        B.__init__(self,age,add)\n",
    "    def hello(self):\n",
    "        print(f\"Hello World I am {self.name}. I am {self.age} years old. I live in {self.add}\")\n",
    "name=input(\"Enter name = \")\n",
    "age = int(input(\"Enter age = \"))\n",
    "add= input(\"Enter address = \")\n",
    "\n",
    "obj = C(name,age,add)\n",
    "obj.hello()\n",
    "obj.myinfo()"
   ]
  },
  {
   "cell_type": "code",
   "execution_count": null,
   "id": "afe77862",
   "metadata": {},
   "outputs": [],
   "source": [
    "age=int(input(\"Enter your age = \"))\n",
    "def canrp(age):\n",
    "    if age >= 35:\n",
    "        print(\"Yes he/she can\")\n",
    "    else:\n",
    "        print(\"No\")\n",
    "canrp(age)\n"
   ]
  },
  {
   "cell_type": "code",
   "execution_count": null,
   "id": "ffb57eb1",
   "metadata": {},
   "outputs": [],
   "source": [
    "  class A:\n",
    "    def __init__(self,add):\n",
    "        self.add=add\n",
    "    def _myadd(self):\n",
    "            return self.add\n",
    "\n",
    "class B:\n",
    "    def __init__(self,age):\n",
    "        self.age=age\n",
    "    def myinfo(self):\n",
    "            print(f\"Hello KTM I am Nymeria. I am {self.age}.\")\n",
    "        \n",
    "class C(A,B):\n",
    "    def __init__(self,name,age,add):\n",
    "        self.name=name\n",
    "        B.__init__(self,age)\n",
    "        A.__init__(self,add)\n",
    "    def hello(self):\n",
    "        print(f\"Hello World I am {self.name}. I am {self.age} years old. I live in {self.add}\")\n",
    "name=input(\"Enter name = \")\n",
    "age = int(input(\"Enter age = \"))\n",
    "add= input(\"Enter address = \")\n",
    "\n",
    "obj = C(name,age,add)\n",
    "obj.hello()\n",
    "obj.myinfo()"
   ]
  },
  {
   "cell_type": "code",
   "execution_count": 1,
   "id": "250faea7",
   "metadata": {},
   "outputs": [
    {
     "name": "stdout",
     "output_type": "stream",
     "text": [
      "Ram\n",
      "23\n",
      "Kathmandu\n"
     ]
    }
   ],
   "source": [
    "# public properties\n",
    "class Info:\n",
    "    def __init__(self,name,age,add):\n",
    "        self.name=name\n",
    "        self.age=age\n",
    "        self.add=add\n",
    "obj=Info(\"Ram\",23,\"Kathmandu\")\n",
    "print(obj.name)\n",
    "print(obj.age)\n",
    "print(obj.add)"
   ]
  },
  {
   "cell_type": "code",
   "execution_count": 2,
   "id": "d488ae25",
   "metadata": {},
   "outputs": [
    {
     "name": "stdout",
     "output_type": "stream",
     "text": [
      "Ram\n",
      "23\n",
      "Kathmandu\n"
     ]
    }
   ],
   "source": [
    "# protected properties\n",
    "class Info:\n",
    "    def __init__(self,name,age,add):\n",
    "        self._name=name\n",
    "        self._age=age\n",
    "        self._add=add\n",
    "obj=Info(\"Ram\",23,\"Kathmandu\")\n",
    "print(obj._name)\n",
    "print(obj._age)\n",
    "print(obj._add)"
   ]
  },
  {
   "cell_type": "code",
   "execution_count": 4,
   "id": "fd99c1c6",
   "metadata": {},
   "outputs": [
    {
     "name": "stdout",
     "output_type": "stream",
     "text": [
      "Ram\n",
      "23\n",
      "Kathmandu\n"
     ]
    }
   ],
   "source": [
    "# private properties\n",
    "class Info:\n",
    "    def __init__(self,name,age,add):\n",
    "        self.__name=name\n",
    "        self.__age=age\n",
    "        self.__add=add\n",
    "        print(obj.__name)\n",
    "        print(obj.__age)\n",
    "        print(obj.__add)\n",
    "obj=Info(\"Ram\",23,\"Kathmandu\")\n"
   ]
  },
  {
   "cell_type": "code",
   "execution_count": 5,
   "id": "4462baf1",
   "metadata": {},
   "outputs": [
    {
     "name": "stdout",
     "output_type": "stream",
     "text": [
      "Ram\n",
      "23\n",
      "Kathmandu\n"
     ]
    }
   ],
   "source": [
    "# private properties\n",
    "#name membling used for debugging\n",
    "class Info:\n",
    "    def __init__(self,name,age,add):\n",
    "        self.__name=name\n",
    "        self.__age=age\n",
    "        self.__add=add\n",
    "obj=Info(\"Ram\",23,\"Kathmandu\")\n",
    "print(obj._Info__name)\n",
    "print(obj._Info__age)\n",
    "print(obj._Info__add)"
   ]
  },
  {
   "cell_type": "code",
   "execution_count": 7,
   "id": "e09529b4",
   "metadata": {},
   "outputs": [
    {
     "name": "stdout",
     "output_type": "stream",
     "text": [
      "Enter name = Ram\n",
      "Enter age = 25\n",
      "Enter address = KTM\n",
      "Hello World I am Ram. I am 25 years old.\n",
      "Hello World I am Ram. I am 25 years old. I am from KTM\n"
     ]
    }
   ],
   "source": [
    "class A:\n",
    "    def __init__(self):\n",
    "        self.name=input(\"Enter name = \")\n",
    "        self._age = int(input(\"Enter age = \"))\n",
    "        self.__add=input(\"Enter address = \")\n",
    "    def a(self):\n",
    "        print(f\"Hello World I am {self.name}. I am {self._age} years old. I am from {self.__add}\")\n",
    "class B(A):\n",
    "    def hello(self):\n",
    "        print(f\"Hello World I am {self.name}. I am {self._age} years old.\")\n",
    "obj = B()\n",
    "obj.hello()\n",
    "obj.a()"
   ]
  },
  {
   "cell_type": "code",
   "execution_count": 8,
   "id": "6d667a72",
   "metadata": {},
   "outputs": [
    {
     "name": "stdout",
     "output_type": "stream",
     "text": [
      "Enter name = Hari \n",
      "Enter age = 25\n",
      "Enter address = Ktm\n",
      "Hello World I am Hari . I am 25 years old.\n",
      "Hello World I am Hari .\n",
      "        I am 25 years old. I am from Ktm\n"
     ]
    }
   ],
   "source": [
    "#lamo f string xa bhane \n",
    "#print(f'''Hello World I am {self.name}. I am {self.age} years old. I live in {self.add}''')\n",
    "#yo garda cahi enter garera new line ma gayo bhane thyakkei tyesto output aauxa\n",
    "class A:\n",
    "    def __init__(self):\n",
    "        self.name=input(\"Enter name = \")\n",
    "        self._age = int(input(\"Enter age = \"))\n",
    "        self.__add=input(\"Enter address = \")\n",
    "    def a(self):\n",
    "        print(f'''Hello World I am {self.name}.\n",
    "        I am {self._age} years old. I am from {self.__add}''')\n",
    "class B(A):\n",
    "    def hello(self):\n",
    "        print(f\"Hello World I am {self.name}. I am {self._age} years old.\")\n",
    "obj = B()\n",
    "obj.hello()\n",
    "obj.a()"
   ]
  },
  {
   "cell_type": "code",
   "execution_count": 14,
   "id": "f657c9d0",
   "metadata": {},
   "outputs": [
    {
     "name": "stdout",
     "output_type": "stream",
     "text": [
      "Enter name = a\n",
      "Enter age = 4\n",
      "Enter address = q\n",
      "Hello World I am a. I am 4 years old. I live in q\n"
     ]
    }
   ],
   "source": [
    "  class A:\n",
    "    def __init__(self,add):\n",
    "        self.add=add\n",
    "    def _myadd(self):\n",
    "            return self.add\n",
    "\n",
    "class B:\n",
    "    def __init__(self,age):\n",
    "        self._age=age\n",
    "    def myinfo(self):\n",
    "        print(f\"Hello KTM I am Nymeria. I am {self.age}.\")\n",
    "        \n",
    "class C(A,B):\n",
    "    def __init__(self,name,age,add):\n",
    "        self.__name=name\n",
    "        B.__init__(self,age)\n",
    "        A.__init__(self,add)\n",
    "    def hello(self):\n",
    "        print(f\"Hello World I am {self.__name}. I am {self._age} years old. I live in {self.add}\")\n",
    "name=input(\"Enter name = \")\n",
    "age = int(input(\"Enter age = \"))\n",
    "add= input(\"Enter address = \")\n",
    "\n",
    "obj = C(name,age,add)\n",
    "obj.hello()\n"
   ]
  },
  {
   "cell_type": "code",
   "execution_count": 16,
   "id": "8c2363d0",
   "metadata": {},
   "outputs": [
    {
     "name": "stdout",
     "output_type": "stream",
     "text": [
      "Parrot can fly\n",
      "Parrot can't swim\n",
      "Parrot can't fly\n",
      "Parrot can swim\n"
     ]
    }
   ],
   "source": [
    "#polymorphism\n",
    "class Parrot:\n",
    "    def fly(self):\n",
    "        print(\"Parrot can fly\")\n",
    "    def swim(self):\n",
    "        print(\"Parrot can't swim\")\n",
    "class Penguin:\n",
    "    def fly(self):\n",
    "        print(\"Parrot can't fly\")\n",
    "    def swim(self):\n",
    "        print(\"Parrot can swim\")\n",
    "#common interface\n",
    "def flying_test(bird):\n",
    "    bird.fly()\n",
    "    bird.swim()\n",
    "#instantiate objects\n",
    "blu=Parrot()\n",
    "peggy=Penguin()\n",
    "#passing the object\n",
    "flying_test(blu)\n",
    "flying_test(peggy)"
   ]
  }
 ],
 "metadata": {
  "kernelspec": {
   "display_name": "Python 3 (ipykernel)",
   "language": "python",
   "name": "python3"
  },
  "language_info": {
   "codemirror_mode": {
    "name": "ipython",
    "version": 3
   },
   "file_extension": ".py",
   "mimetype": "text/x-python",
   "name": "python",
   "nbconvert_exporter": "python",
   "pygments_lexer": "ipython3",
   "version": "3.9.7"
  }
 },
 "nbformat": 4,
 "nbformat_minor": 5
}
