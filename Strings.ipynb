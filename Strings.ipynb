{
 "cells": [
  {
   "cell_type": "code",
   "execution_count": 1,
   "id": "29071c50",
   "metadata": {},
   "outputs": [
    {
     "name": "stdout",
     "output_type": "stream",
     "text": [
      "<class 'str'>\n",
      "Hello World\n"
     ]
    }
   ],
   "source": [
    "a=\"Hello World\"\n",
    "print(type(a))\n",
    "print(a)"
   ]
  },
  {
   "cell_type": "code",
   "execution_count": 4,
   "id": "25b14a2e",
   "metadata": {},
   "outputs": [
    {
     "name": "stdout",
     "output_type": "stream",
     "text": [
      "Hello World\n",
      "Hey There\n",
      "Hey There\n",
      "\n",
      "H\n"
     ]
    }
   ],
   "source": [
    "a=\"Hello \"\n",
    "b=\"World\"\n",
    "c=\"Hey There\\n\"\n",
    "#use of concatination(+) and enlargement(*)\n",
    "print(a+b)\n",
    "print(c*2)\n",
    "#string indexing\n",
    "print(a[0])"
   ]
  },
  {
   "cell_type": "code",
   "execution_count": 12,
   "id": "bade054c",
   "metadata": {},
   "outputs": [
    {
     "name": "stdout",
     "output_type": "stream",
     "text": [
      "Hello \n",
      "llo w\n",
      "Hello \n",
      "world\n",
      "Hlowrd\n",
      "dlrow olleH\n",
      "d\n",
      "H d\n"
     ]
    }
   ],
   "source": [
    "#string slicing\n",
    "a=\"Hello world\"\n",
    "print(a[0:6])\n",
    "print(a[2:7])  #start from second position\n",
    "print(a[:6])   #yesle 0 dekhi 5th index samma ko value dinxa\n",
    "print(a[6:])   #yesle 6 dekhi baki sabai print garxa\n",
    "print(a[0:11:2])# here 0 is the starting index 11 is ending index and 2 is the increment value\n",
    "print(a[11::-1]) #prints string in reverse order including 0th index\n",
    "print(a[-1]) #prints last element\n",
    "print(a[0::5])"
   ]
  },
  {
   "cell_type": "code",
   "execution_count": 13,
   "id": "c2365ed0",
   "metadata": {},
   "outputs": [
    {
     "name": "stdout",
     "output_type": "stream",
     "text": [
      "Enter name = Nikish\n",
      "Enter add = Battisputali\n",
      "Enter age = 21\n",
      "Hello world. I am Nikish. I am from Battisputali. I am 21 years old\n"
     ]
    }
   ],
   "source": [
    "#strinf formatting\n",
    "name = input(\"Enter name = \")\n",
    "add = input(\"Enter add = \")\n",
    "age = int(input(\"Enter age = \"))\n",
    "info=f\"Hello world. I am {name}. I am from {add}. I am {age} years old\"\n",
    "print(info)"
   ]
  },
  {
   "cell_type": "code",
   "execution_count": 17,
   "id": "1149e6cd",
   "metadata": {},
   "outputs": [
    {
     "ename": "NameError",
     "evalue": "name 'search' is not defined",
     "output_type": "error",
     "traceback": [
      "\u001b[1;31m---------------------------------------------------------------------------\u001b[0m",
      "\u001b[1;31mNameError\u001b[0m                                 Traceback (most recent call last)",
      "\u001b[1;32m~\\AppData\\Local\\Temp/ipykernel_11428/3090395539.py\u001b[0m in \u001b[0;36m<module>\u001b[1;34m\u001b[0m\n\u001b[0;32m      1\u001b[0m \u001b[0ma\u001b[0m\u001b[1;33m=\u001b[0m\u001b[1;34m\"Ram Shyam Hari Gita Nita Prakriti\"\u001b[0m\u001b[1;33m\u001b[0m\u001b[1;33m\u001b[0m\u001b[0m\n\u001b[1;32m----> 2\u001b[1;33m \u001b[1;32mif\u001b[0m \u001b[0msearch\u001b[0m \u001b[1;32min\u001b[0m \u001b[0ma\u001b[0m\u001b[1;33m:\u001b[0m\u001b[1;33m\u001b[0m\u001b[1;33m\u001b[0m\u001b[0m\n\u001b[0m\u001b[0;32m      3\u001b[0m     \u001b[0mprint\u001b[0m\u001b[1;33m(\u001b[0m\u001b[1;34m\"Yes\"\u001b[0m\u001b[1;33m)\u001b[0m\u001b[1;33m\u001b[0m\u001b[1;33m\u001b[0m\u001b[0m\n\u001b[0;32m      4\u001b[0m     \u001b[0mprint\u001b[0m\u001b[1;33m(\u001b[0m\u001b[0ma\u001b[0m\u001b[1;33m.\u001b[0m\u001b[0mcount\u001b[0m\u001b[1;33m(\u001b[0m\u001b[1;34m\"Ram\"\u001b[0m\u001b[1;33m)\u001b[0m\u001b[1;33m)\u001b[0m\u001b[1;33m\u001b[0m\u001b[1;33m\u001b[0m\u001b[0m\n",
      "\u001b[1;31mNameError\u001b[0m: name 'search' is not defined"
     ]
    }
   ],
   "source": [
    "a=\"Ram Shyam Hari Gita Nita Prakriti\"\n",
    "if \"Ram\" in a:\n",
    "    print(\"Yes\")\n",
    "    print(a.count(\"Ram\"))"
   ]
  },
  {
   "cell_type": "code",
   "execution_count": 19,
   "id": "9406157c",
   "metadata": {},
   "outputs": [
    {
     "name": "stdout",
     "output_type": "stream",
     "text": [
      "Enter search= Shyam\n",
      "Yes 1\n",
      "ram shyam hari gita ram prakriti\n",
      "RAM SHYAM HARI GITA RAM PRAKRITI\n"
     ]
    }
   ],
   "source": [
    "a=\"Ram Shyam Hari Gita Ram Prakriti\"\n",
    "search=input(\"Enter search= \")\n",
    "if search in a:\n",
    "    print(\"Yes\",a.count(search))\n",
    "    print(a.lower())\n",
    "    print(a.upper())"
   ]
  },
  {
   "cell_type": "code",
   "execution_count": null,
   "id": "8b7aa209",
   "metadata": {},
   "outputs": [],
   "source": [
    "# wap to develop billing system\n",
    "# name\n",
    "# price\n",
    "# quantity \n",
    "# total\n",
    "# grand total"
   ]
  }
 ],
 "metadata": {
  "kernelspec": {
   "display_name": "Python 3 (ipykernel)",
   "language": "python",
   "name": "python3"
  },
  "language_info": {
   "codemirror_mode": {
    "name": "ipython",
    "version": 3
   },
   "file_extension": ".py",
   "mimetype": "text/x-python",
   "name": "python",
   "nbconvert_exporter": "python",
   "pygments_lexer": "ipython3",
   "version": "3.9.7"
  }
 },
 "nbformat": 4,
 "nbformat_minor": 5
}
