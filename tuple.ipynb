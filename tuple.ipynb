{
 "cells": [
  {
   "cell_type": "code",
   "execution_count": null,
   "id": "22c68131",
   "metadata": {},
   "outputs": [],
   "source": [
    "# Tuple\n",
    "#Used to store static data\n",
    "#upade, delete garna mildaina \n",
    "#no append(), extend(), insert(), sort\n",
    "# -Indexed \n",
    "# -Ordered\n",
    "# -Duplicate and Multiple\n",
    "# -Imutable"
   ]
  },
  {
   "cell_type": "code",
   "execution_count": null,
   "id": "9b9d4d00",
   "metadata": {},
   "outputs": [],
   "source": [
    "a=(1,2,3,4,5)\n",
    "print(a)\n",
    "print(a[0])"
   ]
  },
  {
   "cell_type": "code",
   "execution_count": null,
   "id": "9668c6b1",
   "metadata": {},
   "outputs": [],
   "source": [
    "a=(1,2,3,4)\n",
    "b=(3,4,5)\n",
    "c=a+b\n",
    "print(c)"
   ]
  },
  {
   "cell_type": "code",
   "execution_count": null,
   "id": "db070ce1",
   "metadata": {},
   "outputs": [],
   "source": [
    "a=(\"Apple\")\n",
    "print(type(a))\n",
    "b=(\"Ball\",)\n",
    "print(type(b))\n",
    "c=()\n",
    "print(type(c))\n",
    "d=b+c\n",
    "print(d)"
   ]
  },
  {
   "cell_type": "code",
   "execution_count": null,
   "id": "1b5b62cd",
   "metadata": {},
   "outputs": [],
   "source": [
    "a=(\"Apple\",\"Ball\")\n",
    "b=list(a)\n",
    "del b[0]\n",
    "a=tuple(b)\n",
    "a"
   ]
  },
  {
   "cell_type": "code",
   "execution_count": null,
   "id": "80b2c366",
   "metadata": {},
   "outputs": [],
   "source": [
    "a=tuple(\"Hello World\")\n",
    "a"
   ]
  },
  {
   "cell_type": "code",
   "execution_count": null,
   "id": "efdbf0d2",
   "metadata": {},
   "outputs": [],
   "source": [
    "a=()\n",
    "n=int(input(\"Enter n= \"))\n",
    "for i in range(n):\n",
    "    x=input(\"Enter x= \")\n",
    "    a=a+(x,)\n",
    "print(a)"
   ]
  },
  {
   "cell_type": "code",
   "execution_count": 5,
   "id": "e89135ff",
   "metadata": {},
   "outputs": [
    {
     "name": "stdout",
     "output_type": "stream",
     "text": [
      "[(1, 2, 3), (4, 5, 6), (7, 8, 9)]\n"
     ]
    }
   ],
   "source": [
    "a=((1,2,3),(4,5,6),(7,8,9))\n",
    "print(list(a))"
   ]
  },
  {
   "cell_type": "code",
   "execution_count": 1,
   "id": "53d10252",
   "metadata": {},
   "outputs": [
    {
     "name": "stdout",
     "output_type": "stream",
     "text": [
      "Enter r= 0\n",
      "Enter c= 0\n"
     ]
    }
   ],
   "source": [
    "#WAP to create tuple inside tuple\n",
    "r= int(input(\"Enter r= \"))\n",
    "c=int(input(\"Enter c= \"))\n",
    "m = ()\n",
    "for i in range(r):\n",
    "    n = ()\n",
    "    for j in range(c):\n",
    "        x=int(input(\"Enter x = \"))\n",
    "        n=n+(x,)\n",
    "    m=m+(n,)\n",
    "    print(m)"
   ]
  },
  {
   "cell_type": "code",
   "execution_count": null,
   "id": "89543857",
   "metadata": {},
   "outputs": [],
   "source": []
  }
 ],
 "metadata": {
  "kernelspec": {
   "display_name": "Python 3 (ipykernel)",
   "language": "python",
   "name": "python3"
  },
  "language_info": {
   "codemirror_mode": {
    "name": "ipython",
    "version": 3
   },
   "file_extension": ".py",
   "mimetype": "text/x-python",
   "name": "python",
   "nbconvert_exporter": "python",
   "pygments_lexer": "ipython3",
   "version": "3.9.7"
  }
 },
 "nbformat": 4,
 "nbformat_minor": 5
}
