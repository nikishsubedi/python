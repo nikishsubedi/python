{
 "cells": [
  {
   "cell_type": "code",
   "execution_count": null,
   "id": "7dfd360d",
   "metadata": {},
   "outputs": [],
   "source": [
    "#def<function_name>():\n",
    "#<operation>\n",
    "\n",
    "#function"
   ]
  },
  {
   "cell_type": "code",
   "execution_count": null,
   "id": "801adee9",
   "metadata": {},
   "outputs": [],
   "source": [
    "def hello():            #define\n",
    "    print(\"Hello World\")\n",
    "hello()                 #call"
   ]
  },
  {
   "cell_type": "code",
   "execution_count": null,
   "id": "99dfd625",
   "metadata": {},
   "outputs": [],
   "source": [
    "l=int(input(\"Enter l = \"))#global variable\n",
    "b=int(input(\"Enter b= \"))#global variable\n",
    "def area():\n",
    "    a=l*b\n",
    "    print(a)\n",
    "area()"
   ]
  },
  {
   "cell_type": "code",
   "execution_count": null,
   "id": "2b5eac24",
   "metadata": {},
   "outputs": [],
   "source": [
    "l=int(input(\"Enter l = \"))#global variable\n",
    "b=int(input(\"Enter b= \"))#global variable\n",
    "h=int(input(\"Enter h = \"))#global variable\n",
    "def area():\n",
    "    a=l*b\n",
    "    print(a)\n",
    "def volume():\n",
    "    v=l*b*h\n",
    "    print(v)\n",
    "area()\n",
    "volume()\n"
   ]
  },
  {
   "cell_type": "code",
   "execution_count": null,
   "id": "70d2f3c6",
   "metadata": {},
   "outputs": [],
   "source": [
    "def area():\n",
    "    l=int(input(\"Enter l = \")) #local variable\n",
    "    b=int(input(\"Enter b =\"))#local variable\n",
    "    a=l*b\n",
    "    print(\"This is inside function\",a)\n",
    "area()\n",
    "print(\"This is outside function\",a)"
   ]
  },
  {
   "cell_type": "code",
   "execution_count": null,
   "id": "a432e0f8",
   "metadata": {},
   "outputs": [],
   "source": [
    "def area():\n",
    "    global a                  #declaring a as global variable\n",
    "    l=int(input(\"Enter l = \")) #local variable\n",
    "    b=int(input(\"Enter b =\"))#local variable\n",
    "    a=l*b\n",
    "    print(\"This is inside function\",a)\n",
    "area()\n",
    "print(\"This is outside function\",a)"
   ]
  },
  {
   "cell_type": "code",
   "execution_count": null,
   "id": "7de5d773",
   "metadata": {},
   "outputs": [],
   "source": [
    "l=10\n",
    "b=2\n",
    "def area():\n",
    "    #global a                  #declaring a as global variable\n",
    "    l=int(input(\"Enter l = \")) #local variable\n",
    "    b=int(input(\"Enter b =\"))#local variable\n",
    "    a=l*b\n",
    "    print(\"This is inside function\",a)\n",
    "area()\n",
    "print(\"This is outside function\",l*b)"
   ]
  },
  {
   "cell_type": "code",
   "execution_count": null,
   "id": "905ebcb3",
   "metadata": {},
   "outputs": [],
   "source": [
    "a=10\n",
    "print(\"Initial global variable \",a)\n",
    "def fun():\n",
    "    global a\n",
    "    a=5 #this will also update the global variable as a is declared as global variable above\n",
    "    print(a)\n",
    "fun()\n",
    "print(\"The updated global varibale is \",a)#will return the updated global variable from above"
   ]
  },
  {
   "cell_type": "code",
   "execution_count": null,
   "id": "783779a7",
   "metadata": {},
   "outputs": [],
   "source": [
    "#print int str float bool append sort max min are examples of predefined function"
   ]
  },
  {
   "cell_type": "code",
   "execution_count": null,
   "id": "8ffd7081",
   "metadata": {},
   "outputs": [],
   "source": [
    "def hello(x): # x is a parameter in hello function\n",
    "    print(x)\n",
    "hello(\"Hello World\") #argument passing in hello function "
   ]
  },
  {
   "cell_type": "code",
   "execution_count": null,
   "id": "5d1aadd6",
   "metadata": {},
   "outputs": [],
   "source": [
    "#function with argument but no return type\n",
    "def area(l,b):\n",
    "    a=l*b\n",
    "    print(a)\n",
    "l=int(input(\"Enter l = \"))\n",
    "b=int(input(\"Enter b = \"))\n",
    "area(l,b)"
   ]
  },
  {
   "cell_type": "code",
   "execution_count": null,
   "id": "89bb844d",
   "metadata": {},
   "outputs": [],
   "source": [
    "def area(x,y):\n",
    "    a=x*y\n",
    "    print(a)\n",
    "l=int(input(\"Enter l = \"))\n",
    "b=int(input(\"Enter b = \"))\n",
    "area(l,b)"
   ]
  },
  {
   "cell_type": "code",
   "execution_count": null,
   "id": "ab7c9c07",
   "metadata": {},
   "outputs": [],
   "source": [
    "def language(lan=\"Python\"):\n",
    "    print(lan)\n",
    "language(\"C\")\n",
    "language(\"C++\")\n",
    "language(\"Java\")\n",
    "language()"
   ]
  },
  {
   "cell_type": "code",
   "execution_count": null,
   "id": "5d81ddcc",
   "metadata": {},
   "outputs": [],
   "source": [
    "#function with return type and no argument \n",
    "def area():\n",
    "    l=int(input(\"Enter l = \"))#local variable\n",
    "    b=int(input(\"Enter b= \"))#local variable\n",
    "    a=l*b\n",
    "    return a\n",
    "area()"
   ]
  },
  {
   "cell_type": "code",
   "execution_count": null,
   "id": "523584ce",
   "metadata": {},
   "outputs": [],
   "source": [
    "def area():\n",
    "    l=int(input(\"Enter l = \"))#local variable\n",
    "    b=int(input(\"Enter b= \"))#local variable\n",
    "    a=l*b\n",
    "    return a\n",
    "ar=area()\n",
    "print('The area is',ar)\n",
    "h=2\n",
    "v=ar*h\n",
    "print('The volume is',v)"
   ]
  },
  {
   "cell_type": "code",
   "execution_count": null,
   "id": "10ffc2f2",
   "metadata": {},
   "outputs": [],
   "source": [
    "def cal(p,t,r):\n",
    "    i=p*t*r/100\n",
    "    return i\n",
    "p=float(input(\"Enter p = \"))\n",
    "t=float(input(\"Enter t = \"))\n",
    "r=float(input(\"Enter r = \"))\n",
    "x=cal(p,t,r)\n",
    "print(\"The simple interest is \",x)  "
   ]
  },
  {
   "cell_type": "code",
   "execution_count": null,
   "id": "25604dad",
   "metadata": {},
   "outputs": [],
   "source": [
    "def cal():\n",
    "    l=10\n",
    "    b=5\n",
    "    h=2\n",
    "    a=l*b\n",
    "    v=a*h\n",
    "    return a,v\n",
    "area,volume=cal()\n",
    "print(\"Area = \",area)\n",
    "print(\"Volume = \",volume)"
   ]
  },
  {
   "cell_type": "code",
   "execution_count": null,
   "id": "c2690b56",
   "metadata": {},
   "outputs": [],
   "source": [
    "def area():\n",
    "    l=float((input(\"Enter l= \")))\n",
    "    b=float((input(\"Enter b= \")))\n",
    "    a=l*b\n",
    "    return a\n",
    "def volume():\n",
    "    h=5\n",
    "    v=area()*h\n",
    "    return v\n",
    "print(volume())"
   ]
  },
  {
   "cell_type": "code",
   "execution_count": 1,
   "id": "b407dcc7",
   "metadata": {},
   "outputs": [
    {
     "name": "stdout",
     "output_type": "stream",
     "text": [
      "enter the value of a: 10\n",
      "enter the value og b: 5\n",
      "Enter the operator*\n",
      "The result is  50\n"
     ]
    }
   ],
   "source": [
    "def add(a,b):\n",
    "    return a+b\n",
    "def sub(a,b):\n",
    "    return a-b\n",
    "def mul(a,b):\n",
    "    return a*b\n",
    "def div(a,b):\n",
    "    return a/b\n",
    "def cal():\n",
    "    a=int(input(\"enter the value of a: \"))\n",
    "    b=int(input(\"enter the value og b: \"))\n",
    "    o=input(\"Enter the operator\")\n",
    "    if(o==\"+\"):\n",
    "        print(\"The result is \",add(a,b))\n",
    "    elif(o==\"-\"):\n",
    "        print(\"The result is \",sub(a,b))\n",
    "    elif(o==\"/\" and b!=0):\n",
    "        print(\"The result is \",div(a,b))\n",
    "    elif(o==\"/\" and b==0):\n",
    "        print(\"The Value of b cannot be zero\")\n",
    "    elif(o==\"*\"):\n",
    "        print(\"The result is \",mul(a,b))\n",
    "    elif(o==\"%\"and b!=0):\n",
    "        print(\"The result is \",a%b)\n",
    "    else:\n",
    "        print(\"Enter valid operator\")\n",
    "cal()"
   ]
  },
  {
   "cell_type": "code",
   "execution_count": null,
   "id": "d0da2f55",
   "metadata": {},
   "outputs": [],
   "source": [
    "def hello():\n",
    "    print(\"Hello World\")\n",
    "    hello()\n",
    "hello()   "
   ]
  },
  {
   "cell_type": "code",
   "execution_count": 2,
   "id": "c7ea9e62",
   "metadata": {},
   "outputs": [
    {
     "name": "stdout",
     "output_type": "stream",
     "text": [
      "Enter p = 10\n",
      "Enter t = 5\n",
      "Enter r = 2\n",
      "1.0\n",
      "Enter y for more cal= n\n"
     ]
    }
   ],
   "source": [
    "def cal():\n",
    "    p=float(input(\"Enter p = \"))\n",
    "    t=float(input(\"Enter t = \"))\n",
    "    r=float(input(\"Enter r = \"))\n",
    "    i=p*t*r/100\n",
    "    print(i)\n",
    "    x=input(\"Enter y for more cal= \")\n",
    "    if x=='y':\n",
    "        cal()\n",
    "cal()  "
   ]
  },
  {
   "cell_type": "code",
   "execution_count": 8,
   "id": "f3d82f56",
   "metadata": {},
   "outputs": [
    {
     "name": "stdout",
     "output_type": "stream",
     "text": [
      "3.141592653589793\n",
      "2.718281828459045\n"
     ]
    }
   ],
   "source": [
    "#math function\n",
    "import math as m\n",
    "print(m.pi)\n",
    "print(m.e)"
   ]
  },
  {
   "cell_type": "code",
   "execution_count": 9,
   "id": "3e8894f4",
   "metadata": {},
   "outputs": [
    {
     "data": {
      "text/plain": [
       "1.0"
      ]
     },
     "execution_count": 9,
     "metadata": {},
     "output_type": "execute_result"
    }
   ],
   "source": [
    "m.sin(m.pi/2)"
   ]
  },
  {
   "cell_type": "code",
   "execution_count": null,
   "id": "306deda4",
   "metadata": {},
   "outputs": [],
   "source": []
  }
 ],
 "metadata": {
  "kernelspec": {
   "display_name": "Python 3 (ipykernel)",
   "language": "python",
   "name": "python3"
  },
  "language_info": {
   "codemirror_mode": {
    "name": "ipython",
    "version": 3
   },
   "file_extension": ".py",
   "mimetype": "text/x-python",
   "name": "python",
   "nbconvert_exporter": "python",
   "pygments_lexer": "ipython3",
   "version": "3.9.7"
  }
 },
 "nbformat": 4,
 "nbformat_minor": 5
}
