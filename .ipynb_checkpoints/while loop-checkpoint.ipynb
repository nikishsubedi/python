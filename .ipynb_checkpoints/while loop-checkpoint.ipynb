{
 "cells": [
  {
   "cell_type": "code",
   "execution_count": null,
   "id": "245512e9",
   "metadata": {},
   "outputs": [],
   "source": [
    "while True:\n",
    "    print(\"Hello World\")"
   ]
  },
  {
   "cell_type": "code",
   "execution_count": null,
   "id": "39391a04",
   "metadata": {},
   "outputs": [],
   "source": [
    "a=0\n",
    "while a<5:\n",
    "    print(a,\"Hello World\")\n",
    "    a=a+1"
   ]
  },
  {
   "cell_type": "code",
   "execution_count": null,
   "id": "35993255",
   "metadata": {},
   "outputs": [],
   "source": [
    "a=5\n",
    "while a>=0:\n",
    "    print(a,\"Hello World\")\n",
    "    a-=1"
   ]
  },
  {
   "cell_type": "code",
   "execution_count": null,
   "id": "932b220d",
   "metadata": {},
   "outputs": [],
   "source": [
    "i=1\n",
    "n=int(input(\"Enter the value of n\"))\n",
    "while i<=10:\n",
    "    print(n,\"*\",i,\"=\",n*i)\n",
    "    i=i+1"
   ]
  },
  {
   "cell_type": "code",
   "execution_count": null,
   "id": "97f0a0fa",
   "metadata": {},
   "outputs": [],
   "source": [
    "n=int(input(\"Enter n= \"))\n",
    "for i in range(1,11):\n",
    "    print(n,\"*\",i,\"=\",n*i)"
   ]
  },
  {
   "cell_type": "code",
   "execution_count": null,
   "id": "b9c0f16f",
   "metadata": {},
   "outputs": [],
   "source": [
    "i=0\n",
    "while i<5:\n",
    "    print(i)\n",
    "    i=i+0.5"
   ]
  },
  {
   "cell_type": "code",
   "execution_count": null,
   "id": "766badce",
   "metadata": {},
   "outputs": [],
   "source": [
    "i=0\n",
    "s=0\n",
    "n=int(input(\"Enter the value of N:\"))\n",
    "while i<n:\n",
    "    x=int(input(\"Enter x= \"))\n",
    "    s=s+x\n",
    "    i=i+1\n",
    "print(s)"
   ]
  },
  {
   "cell_type": "code",
   "execution_count": 3,
   "id": "da0d1efd",
   "metadata": {},
   "outputs": [
    {
     "name": "stdout",
     "output_type": "stream",
     "text": [
      "Enter number: a\n",
      "Invalid Input\n"
     ]
    }
   ],
   "source": [
    "#to find factorial of a given number \n",
    "fact =1\n",
    "i=1\n",
    "n=(input(\"Enter number: \"))\n",
    "if n>='A' and n<='z':\n",
    "    print(\"Invalid Input\")\n",
    "elif int(n)<0:\n",
    "    print(\"Invalid Input\")\n",
    "elif int(n)==0:\n",
    "    print(fact)\n",
    "#asking user if he/she wants stepwise solution\n",
    "else:\n",
    "    a=input(\"Stepwise? Enter yes or no: \")\n",
    "    if (a=='yes'):\n",
    "        while i<=int(n):\n",
    "            fact=fact*i\n",
    "            i+=1\n",
    "            print(fact)\n",
    "    else:\n",
    "        while i<=int(n):\n",
    "            fact=fact*i\n",
    "            i+=1\n",
    "        print(fact)\n",
    "    "
   ]
  },
  {
   "cell_type": "code",
   "execution_count": null,
   "id": "79bf6972",
   "metadata": {},
   "outputs": [],
   "source": [
    "i=0\n",
    "a=\"Python\"\n",
    "l=len(a)\n",
    "while i<l:\n",
    "    print(a[i])\n",
    "    i=i+1"
   ]
  },
  {
   "cell_type": "code",
   "execution_count": 8,
   "id": "de7e6173",
   "metadata": {},
   "outputs": [
    {
     "name": "stdout",
     "output_type": "stream",
     "text": [
      "HelloWorldIamPython"
     ]
    }
   ],
   "source": [
    "i=0\n",
    "a=\"Hello World I am Python\"\n",
    "l=len(a)\n",
    "while i<l:\n",
    "    if  a[i]!=\" \":\n",
    "        print(a[i],end=\"\")\n",
    "    i=i+1"
   ]
  },
  {
   "cell_type": "code",
   "execution_count": 16,
   "id": "f1e80155",
   "metadata": {},
   "outputs": [
    {
     "name": "stdout",
     "output_type": "stream",
     "text": [
      "Do you want stepwise result?F\n"
     ]
    },
    {
     "data": {
      "text/plain": [
       "True"
      ]
     },
     "execution_count": 16,
     "metadata": {},
     "output_type": "execute_result"
    }
   ],
   "source": [
    "a=bool(input(\"Do you want stepwise result?\"))\n",
    "a\n"
   ]
  },
  {
   "cell_type": "code",
   "execution_count": null,
   "id": "5c7bc156",
   "metadata": {},
   "outputs": [],
   "source": []
  }
 ],
 "metadata": {
  "kernelspec": {
   "display_name": "Python 3 (ipykernel)",
   "language": "python",
   "name": "python3"
  },
  "language_info": {
   "codemirror_mode": {
    "name": "ipython",
    "version": 3
   },
   "file_extension": ".py",
   "mimetype": "text/x-python",
   "name": "python",
   "nbconvert_exporter": "python",
   "pygments_lexer": "ipython3",
   "version": "3.9.7"
  }
 },
 "nbformat": 4,
 "nbformat_minor": 5
}
