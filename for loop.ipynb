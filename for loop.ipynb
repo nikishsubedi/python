{
 "cells": [
  {
   "cell_type": "code",
   "execution_count": 2,
   "id": "7f1dfc83",
   "metadata": {},
   "outputs": [
    {
     "name": "stdout",
     "output_type": "stream",
     "text": [
      "Enter the value of n3\n",
      "Enter x= 5\n",
      "5\n",
      "Enter x= 4\n",
      "9\n",
      "Enter x= 3\n",
      "12\n"
     ]
    }
   ],
   "source": [
    "s=0\n",
    "n=int(input(\"Enter the value of n \"))\n",
    "for i in range(n): \n",
    "    x=int(input(\"Enter x= \"))\n",
    "    s=s+x\n",
    "print(s)"
   ]
  },
  {
   "cell_type": "code",
   "execution_count": 5,
   "id": "cec80520",
   "metadata": {},
   "outputs": [
    {
     "name": "stdout",
     "output_type": "stream",
     "text": [
      "Enter the value of n 5\n",
      "5\n",
      "4\n",
      "3\n",
      "2\n",
      "1\n"
     ]
    }
   ],
   "source": [
    "n=int(input(\"Enter the value of n \"))\n",
    "for i in range(n,0,-1): \n",
    "    print(i)"
   ]
  },
  {
   "cell_type": "code",
   "execution_count": 2,
   "id": "752afd90",
   "metadata": {},
   "outputs": [
    {
     "name": "stdout",
     "output_type": "stream",
     "text": [
      "Enter your number -1\n",
      "Invalid Choice\n"
     ]
    }
   ],
   "source": [
    "n=int(input(\"Enter your number \"))\n",
    "if(n>=0):\n",
    "    f=1\n",
    "    for i in range(1,n+1):\n",
    "        f=f*i\n",
    "    print(f)\n",
    "else:\n",
    "    print(\"Invalid Choice\") "
   ]
  },
  {
   "cell_type": "code",
   "execution_count": 3,
   "id": "4d23651e",
   "metadata": {},
   "outputs": [
    {
     "name": "stdout",
     "output_type": "stream",
     "text": [
      "P\n",
      "y\n",
      "t\n",
      "o\n",
      "n\n"
     ]
    }
   ],
   "source": [
    "a=\"Pyton\"\n",
    "for i in a:\n",
    "    print(i)"
   ]
  },
  {
   "cell_type": "code",
   "execution_count": 7,
   "id": "19621ebd",
   "metadata": {},
   "outputs": [
    {
     "name": "stdout",
     "output_type": "stream",
     "text": [
      "HeowordIamPyton"
     ]
    }
   ],
   "source": [
    "a=\"Hello world I am Pyton\"\n",
    "for i in a:\n",
    "    if i!=\"l\" and i!=\" \":\n",
    "        print(i,end=\"\")\n",
    "        "
   ]
  },
  {
   "cell_type": "code",
   "execution_count": 9,
   "id": "7874bdf4",
   "metadata": {},
   "outputs": [
    {
     "name": "stdout",
     "output_type": "stream",
     "text": [
      "Hello world I am Pyton"
     ]
    }
   ],
   "source": [
    "a=\"Hello world I am Pyton\"\n",
    "l=len(a)\n",
    "for i in range(l):\n",
    "    print(a[i],end=\"\")"
   ]
  },
  {
   "cell_type": "code",
   "execution_count": null,
   "id": "4a766dbd",
   "metadata": {},
   "outputs": [],
   "source": []
  }
 ],
 "metadata": {
  "kernelspec": {
   "display_name": "Python 3 (ipykernel)",
   "language": "python",
   "name": "python3"
  },
  "language_info": {
   "codemirror_mode": {
    "name": "ipython",
    "version": 3
   },
   "file_extension": ".py",
   "mimetype": "text/x-python",
   "name": "python",
   "nbconvert_exporter": "python",
   "pygments_lexer": "ipython3",
   "version": "3.9.7"
  }
 },
 "nbformat": 4,
 "nbformat_minor": 5
}
