{
 "cells": [
  {
   "cell_type": "code",
   "execution_count": null,
   "id": "e755d5c1",
   "metadata": {},
   "outputs": [],
   "source": [
    "# b=open(<'<file_name',<'modes>')\n",
    "# b.close()"
   ]
  },
  {
   "cell_type": "code",
   "execution_count": null,
   "id": "d5010cea",
   "metadata": {},
   "outputs": [],
   "source": [
    "# #syntax\n",
    "# with open('<file_name'>,'<modes') as f:\n",
    "#     <operation>"
   ]
  },
  {
   "cell_type": "code",
   "execution_count": null,
   "id": "aaa253ce",
   "metadata": {},
   "outputs": [],
   "source": [
    "# r->read\n",
    "# a->append\n",
    "# w->write\n",
    "# x->create"
   ]
  },
  {
   "cell_type": "code",
   "execution_count": null,
   "id": "94ac0271",
   "metadata": {},
   "outputs": [],
   "source": [
    "try:\n",
    "    b=open('data.txt','x')\n",
    "    b.close()\n",
    "except:\n",
    "    print(\"Error Occured\")"
   ]
  },
  {
   "cell_type": "code",
   "execution_count": null,
   "id": "1b4a0819",
   "metadata": {},
   "outputs": [],
   "source": [
    "try:\n",
    "    b=open('data.txt','r')\n",
    "    x=b.read()\n",
    "    print(x)\n",
    "    print(type(x))\n",
    "    b.close()\n",
    "except:\n",
    "    print(\"Error Occured\")"
   ]
  },
  {
   "cell_type": "code",
   "execution_count": null,
   "id": "55ee7dfe",
   "metadata": {},
   "outputs": [],
   "source": [
    "print(type(b))"
   ]
  },
  {
   "cell_type": "code",
   "execution_count": null,
   "id": "db2aa1a5",
   "metadata": {},
   "outputs": [],
   "source": [
    "import math as m\n",
    "try:\n",
    "    x=int(input(\"Enter x = \"))\n",
    "    print(m.pow(x,2))\n",
    "except:\n",
    "    print(\"Enter only int data\")"
   ]
  },
  {
   "cell_type": "code",
   "execution_count": null,
   "id": "4dcfe58c",
   "metadata": {},
   "outputs": [],
   "source": [
    "#open le first ma file banauxa ani balla write garxa\n",
    "b=open('datas.txt','w')\n",
    "b.write(\"Hello world I am Python\")\n",
    "b.close()"
   ]
  },
  {
   "cell_type": "code",
   "execution_count": null,
   "id": "0b062421",
   "metadata": {},
   "outputs": [],
   "source": [
    "grand_total = 0\n",
    "n = int(input(\"Enter n = \"))\n",
    "bill = \"\"\n",
    "for i in range(n):\n",
    "    name = input(\"Enter name = \")\n",
    "    price = int(input(\"Enter price = \"))\n",
    "    quantity = int(input(\"Enter quantity = \"))\n",
    "    total = price*quantity\n",
    "    grand_total = grand_total +total\n",
    "    data = f\"{name} {price} {quantity} {total}\\n\"\n",
    "    bill = bill +data\n",
    "    \n",
    "print(bill)\n",
    "print(grand_total)"
   ]
  },
  {
   "cell_type": "code",
   "execution_count": null,
   "id": "8c2acbfd",
   "metadata": {},
   "outputs": [],
   "source": [
    "b=open('datas.txt','w')\n",
    "b.write(\"Product,Price,Quantity,Total\\n\")\n",
    "b.write(bill)\n",
    "b.close()"
   ]
  },
  {
   "cell_type": "code",
   "execution_count": null,
   "id": "208ea02a",
   "metadata": {},
   "outputs": [],
   "source": [
    "grand_total = 0\n",
    "n = int(input(\"Enter n = \"))\n",
    "bill = \"\"\n",
    "for i in range(n):\n",
    "    name = input(\"Enter name = \")\n",
    "    price = int(input(\"Enter price = \"))\n",
    "    quantity = int(input(\"Enter quantity = \"))\n",
    "    total = price*quantity\n",
    "    grand_total = grand_total +total\n",
    "    data = f\"{name},{price},{quantity},{total}\\n\"\n",
    "    bill = bill +data\n",
    "    \n",
    "print(bill)\n",
    "print(grand_total)"
   ]
  },
  {
   "cell_type": "code",
   "execution_count": null,
   "id": "87190620",
   "metadata": {},
   "outputs": [],
   "source": [
    "#.csv comma separated values cahi excel file banauda use hunxa\n",
    "b=open('datas.csv','w')\n",
    "b.write(\"Product,Price,Quantity,Total\\n\")\n",
    "b.write(bill)\n",
    "b.close()"
   ]
  },
  {
   "cell_type": "code",
   "execution_count": null,
   "id": "7f1efc38",
   "metadata": {},
   "outputs": [],
   "source": [
    "file=open('datas.csv','r')\n",
    "x=file.read()\n",
    "print(x)\n",
    "file.close()"
   ]
  },
  {
   "cell_type": "code",
   "execution_count": null,
   "id": "fd5d7627",
   "metadata": {},
   "outputs": [],
   "source": [
    "x"
   ]
  },
  {
   "cell_type": "code",
   "execution_count": null,
   "id": "268e753b",
   "metadata": {},
   "outputs": [],
   "source": [
    "data=x.split('\\n')[0:-1]\n",
    "data"
   ]
  },
  {
   "cell_type": "code",
   "execution_count": null,
   "id": "717c2af9",
   "metadata": {},
   "outputs": [],
   "source": [
    "final_data=[]\n",
    "for i in data:\n",
    "    y=i.split(',')\n",
    "    final_data.append(y)\n",
    "final_data"
   ]
  },
  {
   "cell_type": "code",
   "execution_count": null,
   "id": "030062cf",
   "metadata": {},
   "outputs": [],
   "source": [
    "final_data[1]"
   ]
  },
  {
   "cell_type": "code",
   "execution_count": null,
   "id": "23a9eaf1",
   "metadata": {},
   "outputs": [],
   "source": [
    "product_name=input(\"Enter product name = \").lower()\n",
    "for i in final_data:\n",
    "    if product_name in i[0].lower():\n",
    "        print(i)"
   ]
  },
  {
   "cell_type": "code",
   "execution_count": null,
   "id": "ec08296b",
   "metadata": {},
   "outputs": [],
   "source": [
    "b=open('datas.csv')\n",
    "print(b.read())\n",
    "b.close()"
   ]
  },
  {
   "cell_type": "code",
   "execution_count": null,
   "id": "fa6c293d",
   "metadata": {},
   "outputs": [],
   "source": [
    "import pandas as pd\n",
    "df =pd.read_csv('datas.csv')\n",
    "df"
   ]
  },
  {
   "cell_type": "code",
   "execution_count": 1,
   "id": "6084af8b",
   "metadata": {},
   "outputs": [
    {
     "name": "stdout",
     "output_type": "stream",
     "text": [
      "Enter the number of student 1\n",
      "Enter Name: ram\n",
      "Marks of physics: 45\n",
      "Marks of maths: 44\n",
      "Marks of English: 55\n",
      "Marks of CS: 77\n",
      "Marks of Nepali: 88\n",
      "\n",
      " Name,Physics,Math,English,CS,Nepali,Total,Percentage\n",
      "ram,45.0,44.0,55.0,77.0,88.0,309.0,61.8\n",
      "\n"
     ]
    }
   ],
   "source": [
    "#WAP to create a csv file for result management system using Create,Read,Update,Delete\n",
    "precentage=0\n",
    "data=\"\"\n",
    "b=open('result.csv','x')\n",
    "b.write(\"Name,Physics,Math,English,CS,Nepali,Total,Percentage\\n\")\n",
    "c=int(input(\"Enter the number of student \"))\n",
    "for i in range(c):\n",
    "    name=input(\"Enter Name: \")\n",
    "    s1=float(input(\"Marks of physics: \"))\n",
    "    s2=float(input(\"Marks of maths: \"))\n",
    "    s3=float(input(\"Marks of English: \"))\n",
    "    s4=float(input(\"Marks of CS: \"))\n",
    "    s5=float(input(\"Marks of Nepali: \"))\n",
    "    total=s1+s2+s3+s4+s5\n",
    "    percentage=(total/500)*100\n",
    "    data=f\"{name},{s1},{s2},{s3},{s4},{s5},{total},{percentage}\\n\"\n",
    "    b.write(data)\n",
    "b.close()\n",
    "file=open('result.csv','r')\n",
    "print(\"\\n\",file.read())\n",
    "file.close()\n"
   ]
  },
  {
   "cell_type": "code",
   "execution_count": 1,
   "id": "58a76707",
   "metadata": {},
   "outputs": [
    {
     "name": "stdout",
     "output_type": "stream",
     "text": [
      "Enter Name: Pukar\n",
      "Marks of physics: 78\n",
      "Marks of maths: 49\n",
      "Marks of English: 75\n",
      "Marks of CS: 95\n",
      "Marks of Nepali: 80\n"
     ]
    }
   ],
   "source": [
    "f=open('result.csv','a')\n",
    "name=input(\"Enter Name: \")\n",
    "s1=float(input(\"Marks of physics: \"))\n",
    "s2=float(input(\"Marks of maths: \"))\n",
    "s3=float(input(\"Marks of English: \"))\n",
    "s4=float(input(\"Marks of CS: \"))\n",
    "s5=float(input(\"Marks of Nepali: \"))\n",
    "total=s1+s2+s3+s4+s5\n",
    "percentage=(total/500)*100\n",
    "data=f\"{name},{s1},{s2},{s3},{s4},{s5},{total},{percentage}\\n\"\n",
    "f.write(data)\n",
    "f.close()\n",
    "    \n",
    "\n"
   ]
  },
  {
   "cell_type": "code",
   "execution_count": 8,
   "id": "66dc2614",
   "metadata": {},
   "outputs": [
    {
     "data": {
      "text/html": [
       "<div>\n",
       "<style scoped>\n",
       "    .dataframe tbody tr th:only-of-type {\n",
       "        vertical-align: middle;\n",
       "    }\n",
       "\n",
       "    .dataframe tbody tr th {\n",
       "        vertical-align: top;\n",
       "    }\n",
       "\n",
       "    .dataframe thead th {\n",
       "        text-align: right;\n",
       "    }\n",
       "</style>\n",
       "<table border=\"1\" class=\"dataframe\">\n",
       "  <thead>\n",
       "    <tr style=\"text-align: right;\">\n",
       "      <th></th>\n",
       "      <th>Sn</th>\n",
       "      <th>Name</th>\n",
       "      <th>Age</th>\n",
       "      <th>Address</th>\n",
       "    </tr>\n",
       "  </thead>\n",
       "  <tbody>\n",
       "    <tr>\n",
       "      <th>0</th>\n",
       "      <td>1</td>\n",
       "      <td>Ram</td>\n",
       "      <td>23.0</td>\n",
       "      <td>Kathmandu</td>\n",
       "    </tr>\n",
       "    <tr>\n",
       "      <th>1</th>\n",
       "      <td>2</td>\n",
       "      <td>Shyam</td>\n",
       "      <td>NaN</td>\n",
       "      <td>Patan</td>\n",
       "    </tr>\n",
       "    <tr>\n",
       "      <th>2</th>\n",
       "      <td>3</td>\n",
       "      <td>Sita</td>\n",
       "      <td>42.0</td>\n",
       "      <td>Bhaktapur</td>\n",
       "    </tr>\n",
       "  </tbody>\n",
       "</table>\n",
       "</div>"
      ],
      "text/plain": [
       "   Sn   Name   Age    Address\n",
       "0   1    Ram  23.0  Kathmandu\n",
       "1   2  Shyam   NaN      Patan\n",
       "2   3   Sita  42.0  Bhaktapur"
      ]
     },
     "execution_count": 8,
     "metadata": {},
     "output_type": "execute_result"
    }
   ],
   "source": [
    "import pandas as pd\n",
    "data={'Sn':[1,2,3],'Name':['Ram','Shyam','Sita'],\n",
    "        'Age':[23,None,42],#data xaina bhane none rakhne empty cahi naxadne \n",
    "        'Address':['Kathmandu','Patan','Bhaktapur']}\n",
    "df=pd.DataFrame(data)\n",
    "df"
   ]
  },
  {
   "cell_type": "code",
   "execution_count": 9,
   "id": "8adfb69f",
   "metadata": {},
   "outputs": [],
   "source": [
    "df.to_csv('info.csv')"
   ]
  },
  {
   "cell_type": "code",
   "execution_count": 13,
   "id": "15b8ce95",
   "metadata": {},
   "outputs": [],
   "source": [
    "import csv\n",
    "fields=[['Name','Age','Address'],['Kamal',28,'Baluwatar'],['Shyam',45,'Bharatpur']]\n",
    "with open('boooks.csv', 'a') as f:\n",
    "    x = csv.writer(f)\n",
    "    for i in fields:\n",
    "        x.writerow(i)"
   ]
  },
  {
   "cell_type": "code",
   "execution_count": 17,
   "id": "ad6ec6f1",
   "metadata": {},
   "outputs": [
    {
     "name": "stdout",
     "output_type": "stream",
     "text": [
      "{'Name': 'Kamal', 'Age': '28', 'Address': 'Baluwatar'}\n",
      "{'Name': 'Shyam', 'Age': '45', 'Address': 'Bharatpur'}\n"
     ]
    }
   ],
   "source": [
    "import csv\n",
    "with open('boooks.csv') as csvfile:\n",
    "    reader = csv.DictReader(csvfile)\n",
    "    for row in reader:\n",
    "        print(dict(row))"
   ]
  },
  {
   "cell_type": "code",
   "execution_count": 18,
   "id": "1645ceeb",
   "metadata": {},
   "outputs": [
    {
     "data": {
      "text/plain": [
       "[{'Name': 'Kamal', 'Age': '28', 'Address': 'Baluwatar'},\n",
       " {'Name': 'Shyam', 'Age': '45', 'Address': 'Bharatpur'}]"
      ]
     },
     "execution_count": 18,
     "metadata": {},
     "output_type": "execute_result"
    }
   ],
   "source": [
    "import csv\n",
    "all_data=[]\n",
    "with open('boooks.csv') as csvfile:\n",
    "    reader = csv.DictReader(csvfile)\n",
    "    for row in reader:\n",
    "        all_data.append(dict(row))\n",
    "all_data"
   ]
  },
  {
   "cell_type": "code",
   "execution_count": 19,
   "id": "e8a7e62a",
   "metadata": {},
   "outputs": [
    {
     "data": {
      "text/html": [
       "<div>\n",
       "<style scoped>\n",
       "    .dataframe tbody tr th:only-of-type {\n",
       "        vertical-align: middle;\n",
       "    }\n",
       "\n",
       "    .dataframe tbody tr th {\n",
       "        vertical-align: top;\n",
       "    }\n",
       "\n",
       "    .dataframe thead th {\n",
       "        text-align: right;\n",
       "    }\n",
       "</style>\n",
       "<table border=\"1\" class=\"dataframe\">\n",
       "  <thead>\n",
       "    <tr style=\"text-align: right;\">\n",
       "      <th></th>\n",
       "      <th>Names</th>\n",
       "      <th>Age</th>\n",
       "    </tr>\n",
       "  </thead>\n",
       "  <tbody>\n",
       "    <tr>\n",
       "      <th>0</th>\n",
       "      <td>Andreas</td>\n",
       "      <td>21</td>\n",
       "    </tr>\n",
       "    <tr>\n",
       "      <th>1</th>\n",
       "      <td>George</td>\n",
       "      <td>22</td>\n",
       "    </tr>\n",
       "    <tr>\n",
       "      <th>2</th>\n",
       "      <td>Steve</td>\n",
       "      <td>20</td>\n",
       "    </tr>\n",
       "    <tr>\n",
       "      <th>3</th>\n",
       "      <td>Sarah</td>\n",
       "      <td>19</td>\n",
       "    </tr>\n",
       "    <tr>\n",
       "      <th>4</th>\n",
       "      <td>Joanna</td>\n",
       "      <td>18</td>\n",
       "    </tr>\n",
       "    <tr>\n",
       "      <th>5</th>\n",
       "      <td>Hanna</td>\n",
       "      <td>23</td>\n",
       "    </tr>\n",
       "    <tr>\n",
       "      <th>0</th>\n",
       "      <td>Pete</td>\n",
       "      <td>22</td>\n",
       "    </tr>\n",
       "    <tr>\n",
       "      <th>1</th>\n",
       "      <td>Jordan</td>\n",
       "      <td>21</td>\n",
       "    </tr>\n",
       "    <tr>\n",
       "      <th>2</th>\n",
       "      <td>Gustaf</td>\n",
       "      <td>19</td>\n",
       "    </tr>\n",
       "    <tr>\n",
       "      <th>3</th>\n",
       "      <td>Sophie</td>\n",
       "      <td>19</td>\n",
       "    </tr>\n",
       "    <tr>\n",
       "      <th>4</th>\n",
       "      <td>Sally</td>\n",
       "      <td>29</td>\n",
       "    </tr>\n",
       "    <tr>\n",
       "      <th>5</th>\n",
       "      <td>Simone</td>\n",
       "      <td>21</td>\n",
       "    </tr>\n",
       "    <tr>\n",
       "      <th>0</th>\n",
       "      <td>Ulrich</td>\n",
       "      <td>21</td>\n",
       "    </tr>\n",
       "    <tr>\n",
       "      <th>1</th>\n",
       "      <td>Donald</td>\n",
       "      <td>21</td>\n",
       "    </tr>\n",
       "    <tr>\n",
       "      <th>2</th>\n",
       "      <td>Jon</td>\n",
       "      <td>20</td>\n",
       "    </tr>\n",
       "    <tr>\n",
       "      <th>3</th>\n",
       "      <td>Jessica</td>\n",
       "      <td>19</td>\n",
       "    </tr>\n",
       "    <tr>\n",
       "      <th>4</th>\n",
       "      <td>Elisabeth</td>\n",
       "      <td>19</td>\n",
       "    </tr>\n",
       "    <tr>\n",
       "      <th>5</th>\n",
       "      <td>Diana</td>\n",
       "      <td>22</td>\n",
       "    </tr>\n",
       "  </tbody>\n",
       "</table>\n",
       "</div>"
      ],
      "text/plain": [
       "       Names  Age\n",
       "0    Andreas   21\n",
       "1     George   22\n",
       "2      Steve   20\n",
       "3      Sarah   19\n",
       "4     Joanna   18\n",
       "5      Hanna   23\n",
       "0       Pete   22\n",
       "1     Jordan   21\n",
       "2     Gustaf   19\n",
       "3     Sophie   19\n",
       "4      Sally   29\n",
       "5     Simone   21\n",
       "0     Ulrich   21\n",
       "1     Donald   21\n",
       "2        Jon   20\n",
       "3    Jessica   19\n",
       "4  Elisabeth   19\n",
       "5      Diana   22"
      ]
     },
     "execution_count": 19,
     "metadata": {},
     "output_type": "execute_result"
    }
   ],
   "source": [
    "import pandas as pd\n",
    "df1 = pd.DataFrame({'Names': ['Andreas', 'George', 'Steve',\n",
    "'Sarah', 'Joanna', 'Hanna'],\n",
    "'Age':[21, 22, 20, 19, 18, 23]})\n",
    "df2 = pd.DataFrame({'Names': ['Pete', 'Jordan', 'Gustaf',\n",
    "'Sophie', 'Sally', 'Simone'],\n",
    "'Age':[22, 21, 19, 19, 29, 21]})\n",
    "df3 = pd.DataFrame({'Names': ['Ulrich', 'Donald', 'Jon',\n",
    "'Jessica', 'Elisabeth', 'Diana'],\n",
    "'Age':[21, 21, 20, 19, 19, 22]})\n",
    "df = pd.concat([df1, df2, df3])\n",
    "df.to_csv('boooks.csv')\n",
    "df"
   ]
  },
  {
   "cell_type": "code",
   "execution_count": null,
   "id": "9a2ae9e3",
   "metadata": {},
   "outputs": [],
   "source": []
  }
 ],
 "metadata": {
  "kernelspec": {
   "display_name": "Python 3 (ipykernel)",
   "language": "python",
   "name": "python3"
  },
  "language_info": {
   "codemirror_mode": {
    "name": "ipython",
    "version": 3
   },
   "file_extension": ".py",
   "mimetype": "text/x-python",
   "name": "python",
   "nbconvert_exporter": "python",
   "pygments_lexer": "ipython3",
   "version": "3.9.7"
  }
 },
 "nbformat": 4,
 "nbformat_minor": 5
}
