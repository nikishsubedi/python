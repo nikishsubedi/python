{
 "cells": [
  {
   "cell_type": "code",
   "execution_count": null,
   "metadata": {},
   "outputs": [],
   "source": [
    "# # List\n",
    "# -Indexing\n",
    "# -Ordered\n",
    "# -Multiple and duplicate\n",
    "# -Mutable"
   ]
  },
  {
   "cell_type": "code",
   "execution_count": null,
   "metadata": {},
   "outputs": [],
   "source": [
    "l = [1,2,3,4]\n",
    "print(type(l))\n",
    "print(l)"
   ]
  },
  {
   "cell_type": "code",
   "execution_count": null,
   "metadata": {},
   "outputs": [],
   "source": [
    "a = [\"Apple\",\"Ball\",\"Cat\",\"Dog\"]\n",
    "print(a[2])"
   ]
  },
  {
   "cell_type": "code",
   "execution_count": null,
   "metadata": {},
   "outputs": [],
   "source": [
    "a = [\"Apple\",\"Ball\",\"Cat\",\"Dog\"]\n",
    "print(a[0:3])"
   ]
  },
  {
   "cell_type": "code",
   "execution_count": null,
   "metadata": {},
   "outputs": [],
   "source": [
    "a = [\"Apple\",\"Ball\",\"Cat\",\"Dog\"]\n",
    "print(a[0:4:2])"
   ]
  },
  {
   "cell_type": "code",
   "execution_count": null,
   "metadata": {},
   "outputs": [],
   "source": [
    "a = [\"Apple\",\"Ball\",\"Cat\",\"Dog\",\"Apple\"]\n",
    "print(a)"
   ]
  },
  {
   "cell_type": "code",
   "execution_count": null,
   "metadata": {},
   "outputs": [],
   "source": [
    "a = [\"Apple\",\"Ball\",\"Cat\",\"Dog\",\"Apple\",1,2]\n",
    "print(a)"
   ]
  },
  {
   "cell_type": "code",
   "execution_count": null,
   "metadata": {},
   "outputs": [],
   "source": [
    "a = [\"Apple\",\"Ball\"]\n",
    "b = [\"Cat\",\"Dog\"]\n",
    "c = b+a\n",
    "print(c)"
   ]
  },
  {
   "cell_type": "code",
   "execution_count": null,
   "metadata": {},
   "outputs": [],
   "source": [
    "a = [\"Apple\",\"Ball\",\"Cat\",\"Dog\",\"Apple\"]\n",
    "a[0] = \"Ant\"\n",
    "a"
   ]
  },
  {
   "cell_type": "code",
   "execution_count": null,
   "metadata": {},
   "outputs": [],
   "source": [
    "# append() insert() extend()\n"
   ]
  },
  {
   "cell_type": "code",
   "execution_count": null,
   "metadata": {},
   "outputs": [],
   "source": [
    "# a = []\n",
    "a = list()\n",
    "a.append(\"Apple\")\n",
    "a.append(\"Ball\")\n",
    "a.append(\"Cat\")\n",
    "print(a)"
   ]
  },
  {
   "cell_type": "code",
   "execution_count": null,
   "metadata": {},
   "outputs": [],
   "source": [
    "a = ['Apple', 'Ball', 'Cat']\n",
    "a.insert(1,\"Ant\")\n",
    "a"
   ]
  },
  {
   "cell_type": "code",
   "execution_count": null,
   "metadata": {},
   "outputs": [],
   "source": [
    "a = ['Apple', 'Ball', 'Cat']\n",
    "a.append(\"Dog\")\n",
    "a"
   ]
  },
  {
   "cell_type": "code",
   "execution_count": null,
   "metadata": {},
   "outputs": [],
   "source": [
    "a = ['Apple', 'Ball', 'Cat']\n",
    "b = [\"Dog\",\"Cat\",\"Fish\"]\n",
    "a.extend(b)\n",
    "print(a.count(\"Dog\"))\n",
    "print(a)"
   ]
  },
  {
   "cell_type": "code",
   "execution_count": null,
   "metadata": {},
   "outputs": [],
   "source": [
    "#list inside list\n",
    "a=[[1,2,3,4],[4,5,6,],[7,8,9]]\n",
    "print(a)\n",
    "print(type(a))\n",
    "print(len(a))"
   ]
  },
  {
   "cell_type": "code",
   "execution_count": null,
   "metadata": {},
   "outputs": [],
   "source": [
    "a=[[1,2,3,4,5,6],[4,5,6,],[7,8]]\n",
    "print(len(a))"
   ]
  },
  {
   "cell_type": "code",
   "execution_count": null,
   "metadata": {},
   "outputs": [],
   "source": [
    "a=[[1,2,3,4,5,6],[4,5,6,],[7,8]]\n",
    "b=[[\"a\",\"b\",\"c\",\"d\"]]\n",
    "c=a+b\n",
    "print(c)"
   ]
  },
  {
   "cell_type": "code",
   "execution_count": null,
   "metadata": {},
   "outputs": [],
   "source": [
    "a=[[\"Ram\",24,\"Ktm\"],['Shyman',34,\"Pokhara\"],[\"Kia\",84,\"Bdp\"]]\n",
    "print(a[2])"
   ]
  },
  {
   "cell_type": "code",
   "execution_count": null,
   "metadata": {},
   "outputs": [],
   "source": [
    "for i in a:\n",
    "    print(i)"
   ]
  },
  {
   "cell_type": "code",
   "execution_count": null,
   "metadata": {},
   "outputs": [],
   "source": [
    "name=input(\"Enter name= \")\n",
    "for i in a:\n",
    "    if name in i:\n",
    "        print(i)"
   ]
  },
  {
   "cell_type": "code",
   "execution_count": null,
   "metadata": {},
   "outputs": [],
   "source": [
    "name=input(\"Enter name= \").lower()\n",
    "for i in a:\n",
    "    if name in i[0].lower():\n",
    "        print(i[0])"
   ]
  },
  {
   "cell_type": "code",
   "execution_count": null,
   "metadata": {},
   "outputs": [],
   "source": [
    "a=[[1, 2, 3, 4], [4, 5, 6, 'a'], [7, 8, 9]]\n",
    "print(a[0][0])"
   ]
  },
  {
   "cell_type": "code",
   "execution_count": null,
   "metadata": {},
   "outputs": [],
   "source": [
    "a=[]\n",
    "n=int((input(\"Enter the number of users: \")))\n",
    "for i in range(n):\n",
    "    name=input(\"Enter name= \")\n",
    "    age=int(input(\"Enter age= \"))\n",
    "    address=(input(\"Enter address\"))\n",
    "    data=[name,age,address]\n",
    "    a.append(data)\n",
    "print(a)\n",
    "    "
   ]
  },
  {
   "cell_type": "code",
   "execution_count": 1,
   "metadata": {},
   "outputs": [
    {
     "name": "stdout",
     "output_type": "stream",
     "text": [
      "ENter the value of n: 2\n",
      "Enter name= no\n",
      "Enter Price= 50\n",
      "Enter Quantity= 50\n",
      "Enter name= ko\n",
      "Enter Price= 78\n",
      "Enter Quantity= 51\n",
      "[['Name', 'Price', 'Quantity', 'Total'], ['no', 50, 50, 2500], ['ko', 78, 51, 3978]]\n"
     ]
    }
   ],
   "source": [
    "#biling system \n",
    "bill=[['Name', 'Price','Quantity','Total']]\n",
    "n=int(input(\"ENter the value of n: \"))\n",
    "for i in range(n):\n",
    "    product=input(\"Enter name= \")\n",
    "    price= int(input(\"Enter Price= \"))\n",
    "    qty=int(input(\"Enter Quantity= \"))\n",
    "    total = price*qty\n",
    "    data=[product,price,qty,total]\n",
    "    bill.append(data)\n",
    "print(bill)\n",
    "    "
   ]
  },
  {
   "cell_type": "code",
   "execution_count": null,
   "metadata": {},
   "outputs": [],
   "source": [
    "#update\n",
    "a=[['Ram',34,'Kathmandu'],['Hat',43,'mandu']]\n",
    "a[0][0]='Rama'\n",
    "print(a)\n",
    "a[0]='Ram'\n",
    "print(a)"
   ]
  },
  {
   "cell_type": "code",
   "execution_count": null,
   "metadata": {},
   "outputs": [],
   "source": [
    "#delete\n",
    "a=[['Ram',34,'Kathmandu'],['Hat',43,'mandu']]\n",
    "del a[0]\n",
    "print(a)\n",
    "a.clear()\n",
    "print(a)"
   ]
  },
  {
   "cell_type": "code",
   "execution_count": 4,
   "metadata": {},
   "outputs": [
    {
     "name": "stdout",
     "output_type": "stream",
     "text": [
      "[['Momo', 150, 2, 500], ['Coke', 100, 2, 400], ['Pizza', 300, 2, 300]]\n"
     ]
    }
   ],
   "source": [
    "#ASSIGNMENT\n",
    "a=[['Coke', 100, 2, 400], ['Momo', 150, 2, 500],[\"Pizza\",300,2,300]]\n",
    "z=[]\n",
    "res=[]\n",
    "for x in a:\n",
    "    z.append(x[3])\n",
    "for i in range(len(a)):\n",
    "    m=max(z)\n",
    "    for y in a:\n",
    "        if y[3]==m:\n",
    "            res.append(y)\n",
    "            a.remove(y)\n",
    "            z.remove(m)\n",
    "print(res)"
   ]
  },
  {
   "cell_type": "code",
   "execution_count": 20,
   "metadata": {},
   "outputs": [
    {
     "name": "stdout",
     "output_type": "stream",
     "text": [
      "Enter r= 0\n",
      "Enter c= 0\n",
      "Matrix Not Possible\n"
     ]
    }
   ],
   "source": [
    "#WAP to create a matrix\n",
    "#ask row and column with user \n",
    "#user should enter the value \n",
    "r= int(input(\"Enter r= \"))\n",
    "c=int(input(\"Enter c= \"))\n",
    "m = []\n",
    "if r*c ==0:\n",
    "    print(\"Matrix Not Possible\")\n",
    "else:\n",
    "    for i in range(r):\n",
    "        n = []\n",
    "        for j in range(c):\n",
    "            x=int(input(\"Enter x = \"))\n",
    "            n.append(x)\n",
    "        m.append(n)\n",
    "    print(m)"
   ]
  },
  {
   "cell_type": "code",
   "execution_count": null,
   "metadata": {},
   "outputs": [],
   "source": []
  },
  {
   "cell_type": "code",
   "execution_count": null,
   "metadata": {},
   "outputs": [],
   "source": []
  }
 ],
 "metadata": {
  "kernelspec": {
   "display_name": "Python 3 (ipykernel)",
   "language": "python",
   "name": "python3"
  },
  "language_info": {
   "codemirror_mode": {
    "name": "ipython",
    "version": 3
   },
   "file_extension": ".py",
   "mimetype": "text/x-python",
   "name": "python",
   "nbconvert_exporter": "python",
   "pygments_lexer": "ipython3",
   "version": "3.9.7"
  }
 },
 "nbformat": 4,
 "nbformat_minor": 2
}
