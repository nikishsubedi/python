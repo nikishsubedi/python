{
 "cells": [
  {
   "cell_type": "code",
   "execution_count": 1,
   "id": "ebd169e2",
   "metadata": {},
   "outputs": [],
   "source": [
    "# #dict\n",
    "# -indexed\n",
    "# -multiple value and duplicate values \n",
    "# -ordered \n",
    "# -mutable\n",
    "#dictionary is used for mapping"
   ]
  },
  {
   "cell_type": "code",
   "execution_count": 2,
   "id": "05f3a4d8",
   "metadata": {},
   "outputs": [],
   "source": [
    "#d={<key>:<value>,<key>:<value>}"
   ]
  },
  {
   "cell_type": "code",
   "execution_count": 5,
   "id": "bd36b7d0",
   "metadata": {},
   "outputs": [
    {
     "name": "stdout",
     "output_type": "stream",
     "text": [
      "{1: 'Apple', 2: 'Ball', 3: 'Cat', 5: 'Dog'}\n",
      "<class 'dict'>\n"
     ]
    }
   ],
   "source": [
    "d={1:\"Apple\",2:\"Ball\",3:\"Cat\",5:\"Dog\"}\n",
    "print(d)\n",
    "print(type(d))"
   ]
  },
  {
   "cell_type": "code",
   "execution_count": 7,
   "id": "bc6651e2",
   "metadata": {},
   "outputs": [
    {
     "name": "stdout",
     "output_type": "stream",
     "text": [
      "Apple\n",
      "Dog\n"
     ]
    }
   ],
   "source": [
    "d={\"a\":\"Apple\",\"b\":\"Ball\",3:\"Cat\",5:\"Dog\"}\n",
    "print(d[\"a\"])\n",
    "print(d[5])"
   ]
  },
  {
   "cell_type": "code",
   "execution_count": 10,
   "id": "652ee56d",
   "metadata": {},
   "outputs": [
    {
     "data": {
      "text/plain": [
       "4"
      ]
     },
     "execution_count": 10,
     "metadata": {},
     "output_type": "execute_result"
    }
   ],
   "source": [
    "#aagadi ko length ho\n",
    "len(d)"
   ]
  },
  {
   "cell_type": "code",
   "execution_count": 11,
   "id": "942dd91f",
   "metadata": {},
   "outputs": [
    {
     "name": "stdout",
     "output_type": "stream",
     "text": [
      "{'a': 'Apple', 'b': 'Ball', 'A': 'Apple'}\n"
     ]
    }
   ],
   "source": [
    "d={\"a\":\"Apple\",\"b\":\"Ball\",\"A\":\"Apple\"}\n",
    "print(d)"
   ]
  },
  {
   "cell_type": "code",
   "execution_count": 12,
   "id": "902f3c3a",
   "metadata": {},
   "outputs": [
    {
     "name": "stdout",
     "output_type": "stream",
     "text": [
      "{'a': 'Ant', 'b': 'Ball'}\n"
     ]
    }
   ],
   "source": [
    "d={\"a\":\"Apple\",\"b\":\"Ball\",\"a\":\"Ant\"}\n",
    "print(d)"
   ]
  },
  {
   "cell_type": "code",
   "execution_count": 14,
   "id": "c786bcd8",
   "metadata": {},
   "outputs": [
    {
     "data": {
      "text/plain": [
       "{'a': 'Apple', 'b': 'Ball', 'c': 'Cat'}"
      ]
     },
     "execution_count": 14,
     "metadata": {},
     "output_type": "execute_result"
    }
   ],
   "source": [
    "d=dict()#defines empty dictionary\n",
    "d={}#also defines empty dictionary but we prefer this\n",
    "d['a']=\"Apple\"\n",
    "d['b']=\"Ball\"\n",
    "d['c']=\"Cat\"\n",
    "d"
   ]
  },
  {
   "cell_type": "code",
   "execution_count": 17,
   "id": "419e0fc6",
   "metadata": {},
   "outputs": [
    {
     "name": "stdout",
     "output_type": "stream",
     "text": [
      "a\n",
      "dict_values(['Apple', 'Ball', 'Cat'])\n",
      "b\n",
      "dict_values(['Apple', 'Ball', 'Cat'])\n",
      "c\n",
      "dict_values(['Apple', 'Ball', 'Cat'])\n"
     ]
    }
   ],
   "source": [
    "for i in d:\n",
    "    print(i)\n",
    "    print(d.values())"
   ]
  },
  {
   "cell_type": "code",
   "execution_count": 19,
   "id": "7d190e15",
   "metadata": {},
   "outputs": [
    {
     "name": "stdout",
     "output_type": "stream",
     "text": [
      "a\n",
      "b\n",
      "c\n"
     ]
    }
   ],
   "source": [
    "for i in d:\n",
    "    print(i)"
   ]
  },
  {
   "cell_type": "code",
   "execution_count": 20,
   "id": "d0f4f8bc",
   "metadata": {},
   "outputs": [
    {
     "name": "stdout",
     "output_type": "stream",
     "text": [
      "Apple\n",
      "Ball\n",
      "Cat\n"
     ]
    }
   ],
   "source": [
    "for i in d.values():\n",
    "    print(i)"
   ]
  },
  {
   "cell_type": "code",
   "execution_count": 21,
   "id": "99500018",
   "metadata": {},
   "outputs": [
    {
     "name": "stdout",
     "output_type": "stream",
     "text": [
      "('a', 'Apple')\n",
      "('b', 'Ball')\n",
      "('c', 'Cat')\n"
     ]
    }
   ],
   "source": [
    "for i in d.items():\n",
    "    print(i)"
   ]
  },
  {
   "cell_type": "code",
   "execution_count": 22,
   "id": "87701390",
   "metadata": {},
   "outputs": [
    {
     "data": {
      "text/plain": [
       "{'a': 'Apple', 'b': 'Ball', 'c': 'Cat'}"
      ]
     },
     "execution_count": 22,
     "metadata": {},
     "output_type": "execute_result"
    }
   ],
   "source": [
    "d=[('a', 'Apple'),('b', 'Ball'),('c', 'Cat')]\n",
    "dict(d)"
   ]
  },
  {
   "cell_type": "code",
   "execution_count": 25,
   "id": "c551a827",
   "metadata": {},
   "outputs": [
    {
     "name": "stdout",
     "output_type": "stream",
     "text": [
      "Enter number of people: 2\n",
      "Enter number= 456\n",
      "Enter Name= har\n",
      "Enter number= 789\n",
      "Enter Name= ram\n",
      "{456: 'har', 789: 'ram'}\n"
     ]
    }
   ],
   "source": [
    "#WAP to input phone number and name by using dictionary \n",
    "d={}\n",
    "n=int(input(\"Enter number of people: \"))\n",
    "for i in range(n):\n",
    "    a=int(input(\"Enter number= \"))\n",
    "    b=(input(\"Enter Name= \"))\n",
    "    d[a]=b\n",
    "print(d)\n"
   ]
  },
  {
   "cell_type": "code",
   "execution_count": 26,
   "id": "584182dc",
   "metadata": {},
   "outputs": [],
   "source": [
    "# to delete we use del pop"
   ]
  },
  {
   "cell_type": "code",
   "execution_count": 28,
   "id": "5cd42e9b",
   "metadata": {},
   "outputs": [
    {
     "data": {
      "text/plain": [
       "{789: 'ram'}"
      ]
     },
     "execution_count": 28,
     "metadata": {},
     "output_type": "execute_result"
    }
   ],
   "source": [
    "a={456: 'har', 789: 'ram'}\n",
    "del a[456]\n",
    "a"
   ]
  },
  {
   "cell_type": "code",
   "execution_count": 30,
   "id": "6648a5c5",
   "metadata": {},
   "outputs": [
    {
     "name": "stdout",
     "output_type": "stream",
     "text": [
      "{789: 'ram'}\n",
      "har\n"
     ]
    }
   ],
   "source": [
    "a={456: 'har', 789: 'ram'}\n",
    "b=a.pop(456)\n",
    "print(a)\n",
    "print(b)"
   ]
  },
  {
   "cell_type": "code",
   "execution_count": 31,
   "id": "46ff2de7",
   "metadata": {},
   "outputs": [
    {
     "data": {
      "text/plain": [
       "{'Ram': [9812345678, 98512487],\n",
       " 'Shyam': [787898, 456545],\n",
       " 'Radhe': (4545, 8758)}"
      ]
     },
     "execution_count": 31,
     "metadata": {},
     "output_type": "execute_result"
    }
   ],
   "source": [
    "#list inside dict\n",
    "a={\"Ram\":[9812345678,98512487],\n",
    "  \"Shyam\":[787898,456545],\n",
    "  \"Radhe\":(4545,8758)}\n",
    "a"
   ]
  },
  {
   "cell_type": "code",
   "execution_count": 32,
   "id": "0e98f84d",
   "metadata": {},
   "outputs": [
    {
     "data": {
      "text/plain": [
       "[{'Name': 'Ram', 'Age': 23}, {'Name': 'hari', 'Age': 83}]"
      ]
     },
     "execution_count": 32,
     "metadata": {},
     "output_type": "execute_result"
    }
   ],
   "source": [
    "#dictionary inside list\n",
    "a=[{'Name':'Ram',\"Age\":23},{'Name':'hari',\"Age\":83}]\n",
    "a"
   ]
  },
  {
   "cell_type": "code",
   "execution_count": 1,
   "id": "fa18d502",
   "metadata": {},
   "outputs": [
    {
     "data": {
      "text/plain": [
       "({'Name': 'Ram', 'Age': 23}, {'Name': 'hari', 'Age': 83})"
      ]
     },
     "execution_count": 1,
     "metadata": {},
     "output_type": "execute_result"
    }
   ],
   "source": [
    "#dictionary inside tuple\n",
    "a=({'Name':'Ram',\"Age\":23},{'Name':'hari',\"Age\":83})\n",
    "a"
   ]
  },
  {
   "cell_type": "code",
   "execution_count": 32,
   "id": "567f19a1",
   "metadata": {},
   "outputs": [
    {
     "name": "stdout",
     "output_type": "stream",
     "text": [
      "[89, 86, 30]\n"
     ]
    },
    {
     "ename": "TypeError",
     "evalue": "'int' object is not iterable",
     "output_type": "error",
     "traceback": [
      "\u001b[1;31m---------------------------------------------------------------------------\u001b[0m",
      "\u001b[1;31mTypeError\u001b[0m                                 Traceback (most recent call last)",
      "\u001b[1;32m~\\AppData\\Local\\Temp/ipykernel_14092/2548537415.py\u001b[0m in \u001b[0;36m<module>\u001b[1;34m\u001b[0m\n\u001b[0;32m      8\u001b[0m \u001b[0mlargest\u001b[0m\u001b[1;33m=\u001b[0m\u001b[0mb\u001b[0m\u001b[1;33m[\u001b[0m\u001b[1;36m0\u001b[0m\u001b[1;33m]\u001b[0m\u001b[1;33m\u001b[0m\u001b[1;33m\u001b[0m\u001b[0m\n\u001b[0;32m      9\u001b[0m \u001b[0me\u001b[0m\u001b[1;33m=\u001b[0m\u001b[1;33m[\u001b[0m\u001b[1;33m]\u001b[0m\u001b[1;33m\u001b[0m\u001b[1;33m\u001b[0m\u001b[0m\n\u001b[1;32m---> 10\u001b[1;33m \u001b[1;32mfor\u001b[0m \u001b[0mi\u001b[0m \u001b[1;32min\u001b[0m \u001b[0mlen\u001b[0m\u001b[1;33m(\u001b[0m\u001b[0mb\u001b[0m\u001b[1;33m)\u001b[0m\u001b[1;33m:\u001b[0m\u001b[1;33m\u001b[0m\u001b[1;33m\u001b[0m\u001b[0m\n\u001b[0m\u001b[0;32m     11\u001b[0m     \u001b[1;32mif\u001b[0m \u001b[0mlargest\u001b[0m\u001b[1;33m<\u001b[0m\u001b[0mb\u001b[0m\u001b[1;33m[\u001b[0m\u001b[0mi\u001b[0m\u001b[1;33m]\u001b[0m\u001b[1;33m:\u001b[0m\u001b[1;33m\u001b[0m\u001b[1;33m\u001b[0m\u001b[0m\n\u001b[0;32m     12\u001b[0m         \u001b[0mlargest\u001b[0m \u001b[1;33m=\u001b[0m \u001b[0mb\u001b[0m\u001b[1;33m[\u001b[0m\u001b[0mi\u001b[0m\u001b[1;33m]\u001b[0m\u001b[1;33m\u001b[0m\u001b[1;33m\u001b[0m\u001b[0m\n",
      "\u001b[1;31mTypeError\u001b[0m: 'int' object is not iterable"
     ]
    }
   ],
   "source": [
    "#sort this using dictionary \n",
    "#a={'ram':89,'shyam':86,'hari':30}\n",
    "#for loop ma .values lagayera sort garne \n",
    "#alikati list ko concept ni lagauna parxa\n",
    "a={'ram':89,'shyam':86,'hari':30}\n",
    "b=list(a.values())\n",
    "largest[]=b[0]\n",
    "e=[]\n",
    "for i in len(b):\n",
    "    if largest<b[i]:\n",
    "        largest = b[i]\n",
    "        e.append(largest)\n",
    "    \n",
    "\n",
    "    "
   ]
  },
  {
   "cell_type": "code",
   "execution_count": 6,
   "id": "368cb313",
   "metadata": {},
   "outputs": [
    {
     "name": "stdout",
     "output_type": "stream",
     "text": [
      "Enter the value on n = 2\n",
      "Enter name = Ram\n",
      "Enter ntc = 9852\n",
      "Enter ncell = 9804\n",
      "Enter name = Hari\n",
      "Enter ntc = 587\n",
      "Enter ncell = 509\n",
      "{'Ram': [9852, 9804], 'Hari': [587, 509]}\n"
     ]
    }
   ],
   "source": [
    "#list inside dict\n",
    "d={}\n",
    "n=int(input(\"Enter the value on n = \"))\n",
    "for i in range(n):\n",
    "    name=input(\"Enter name = \")\n",
    "    ntc= int(input(\"Enter ntc = \"))\n",
    "    ncell= int(input(\"Enter ncell = \"))\n",
    "    value=[ntc,ncell]\n",
    "    key=name\n",
    "    d[key]=value\n",
    "print(d)"
   ]
  },
  {
   "cell_type": "code",
   "execution_count": 11,
   "id": "b6e8b23b",
   "metadata": {},
   "outputs": [
    {
     "ename": "TypeError",
     "evalue": "unhashable type: 'list'",
     "output_type": "error",
     "traceback": [
      "\u001b[1;31m---------------------------------------------------------------------------\u001b[0m",
      "\u001b[1;31mTypeError\u001b[0m                                 Traceback (most recent call last)",
      "\u001b[1;32m~\\AppData\\Local\\Temp/ipykernel_14520/3170693818.py\u001b[0m in \u001b[0;36m<module>\u001b[1;34m\u001b[0m\n\u001b[1;32m----> 1\u001b[1;33m \u001b[0md\u001b[0m\u001b[1;33m=\u001b[0m\u001b[1;33m{\u001b[0m\u001b[1;33m[\u001b[0m\u001b[1;36m345\u001b[0m\u001b[1;33m,\u001b[0m\u001b[1;36m447\u001b[0m\u001b[1;33m]\u001b[0m\u001b[1;33m:\u001b[0m\u001b[1;34m'Ram'\u001b[0m\u001b[1;33m,\u001b[0m\u001b[1;34m'Shyam'\u001b[0m\u001b[1;33m:\u001b[0m\u001b[1;33m[\u001b[0m\u001b[1;36m567\u001b[0m\u001b[1;33m,\u001b[0m\u001b[1;36m747\u001b[0m\u001b[1;33m]\u001b[0m\u001b[1;33m}\u001b[0m\u001b[1;31m#dictionary ma mutable data type i.e list hunna\u001b[0m\u001b[1;33m\u001b[0m\u001b[1;33m\u001b[0m\u001b[0m\n\u001b[0m\u001b[0;32m      2\u001b[0m \u001b[0md\u001b[0m\u001b[1;33m\u001b[0m\u001b[1;33m\u001b[0m\u001b[0m\n",
      "\u001b[1;31mTypeError\u001b[0m: unhashable type: 'list'"
     ]
    }
   ],
   "source": [
    "d={[345,447]:'Ram','Shyam':[567,747]}#dictionary ma mutable data type i.e list hunna\n",
    "d"
   ]
  },
  {
   "cell_type": "code",
   "execution_count": 10,
   "id": "f809e0d0",
   "metadata": {},
   "outputs": [
    {
     "data": {
      "text/plain": [
       "{(345, 441): 'Ram', 'Shyam': (567, 148)}"
      ]
     },
     "execution_count": 10,
     "metadata": {},
     "output_type": "execute_result"
    }
   ],
   "source": [
    "d={(345,441):'Ram','Shyam':(567,148)}\n",
    "d"
   ]
  },
  {
   "cell_type": "code",
   "execution_count": 15,
   "id": "7fe94b9e",
   "metadata": {},
   "outputs": [
    {
     "data": {
      "text/plain": [
       "{'Ram': [747380, 6789], 'Shyam': [34567, 8901]}"
      ]
     },
     "execution_count": 15,
     "metadata": {},
     "output_type": "execute_result"
    }
   ],
   "source": [
    "d={'Ram':[12345,6789],'Shyam':[34567,8901]}\n",
    "d['Ram'][0]=747380\n",
    "d"
   ]
  },
  {
   "cell_type": "code",
   "execution_count": 19,
   "id": "81933933",
   "metadata": {},
   "outputs": [
    {
     "data": {
      "text/plain": [
       "{'Ram': [12345], 'Shyam': [34567, 8901]}"
      ]
     },
     "execution_count": 19,
     "metadata": {},
     "output_type": "execute_result"
    }
   ],
   "source": [
    "d={'Ram':[12345,6789],'Shyam':[34567,8901]}\n",
    "del d['Ram'][1]\n",
    "d"
   ]
  },
  {
   "cell_type": "code",
   "execution_count": null,
   "id": "451800f4",
   "metadata": {},
   "outputs": [],
   "source": []
  }
 ],
 "metadata": {
  "kernelspec": {
   "display_name": "Python 3 (ipykernel)",
   "language": "python",
   "name": "python3"
  },
  "language_info": {
   "codemirror_mode": {
    "name": "ipython",
    "version": 3
   },
   "file_extension": ".py",
   "mimetype": "text/x-python",
   "name": "python",
   "nbconvert_exporter": "python",
   "pygments_lexer": "ipython3",
   "version": "3.9.7"
  }
 },
 "nbformat": 4,
 "nbformat_minor": 5
}
